{
 "cells": [
  {
   "cell_type": "code",
   "execution_count": null,
   "id": "3345518d",
   "metadata": {},
   "outputs": [
    {
     "data": {
      "text/html": [
       "<style>.container { width:100% !important; }</style>"
      ],
      "text/plain": [
       "<IPython.core.display.HTML object>"
      ]
     },
     "metadata": {},
     "output_type": "display_data"
    }
   ],
   "source": [
    "from mysql.connector import connect\n",
    "\n",
    "import warnings\n",
    "warnings.filterwarnings('ignore')\n",
    "\n",
    "from IPython.display import display, HTML \n",
    "display(HTML(\"<style>.container { width:100% !important; }</style>\"))\n",
    "\n",
    "import os\n",
    "from ssl import create_default_context, CERT_NONE\n",
    "import json\n",
    "import pandas as pd\n",
    "import datetime\n",
    "import logging\n",
    "import re\n",
    "\n",
    "import psycopg2\n",
    "import pandas as pd\n",
    "\n",
    "\n",
    "# DB_NAMES = [\"edm\", \"segdb\", \"campaign\",\"accounts\"]\n",
    "\n",
    "DB_USER = \"postgres\"\n",
    "DB_PASS = \"infopower\"\n",
    "DB_HOST = \"localhost\"  # or the IP address of your database server\n",
    "DB_PORT = \"9100\"       # default PostgreSQL port\n",
    "\n",
    "# Connect to your PostgreSQL database\n",
    "connection = psycopg2.connect(\n",
    "    dbname='vector_db',\n",
    "    user=DB_USER,\n",
    "    password=DB_PASS,\n",
    "    host=DB_HOST,\n",
    "    port=DB_PORT\n",
    ")\n",
    "cursor = connection.cursor()\n",
    "\n",
    "# Execute a SELECT query\n",
    "cursor.execute(\"\"\"\n",
    "        SELECT table_name \n",
    "        FROM information_schema.tables \n",
    "        WHERE table_schema = 'public' and table_name != 'goose_db_version' \n",
    "            \"\"\")\n",
    "\n",
    "result = cursor.fetchall()\n",
    "\n",
    "result_table = cursor.execute(f\"SELECT {result[0][0]} FROM vector_db LIMIT 5;\")\n",
    "result_table = cursor.fetchall()\n",
    "result_table_df = pd.DataFrame(result_table)\n",
    "result_table_df.head()"
   ]
  }
 ],
 "metadata": {
  "kernelspec": {
   "display_name": "nexva_penta_integration_env",
   "language": "python",
   "name": "python3"
  },
  "language_info": {
   "codemirror_mode": {
    "name": "ipython",
    "version": 3
   },
   "file_extension": ".py",
   "mimetype": "text/x-python",
   "name": "python",
   "nbconvert_exporter": "python",
   "pygments_lexer": "ipython3",
   "version": "3.10.18"
  }
 },
 "nbformat": 4,
 "nbformat_minor": 5
}
