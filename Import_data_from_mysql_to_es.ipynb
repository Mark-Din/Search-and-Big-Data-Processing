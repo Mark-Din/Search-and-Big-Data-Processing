{
 "cells": [
  {
   "cell_type": "code",
   "execution_count": 1,
   "id": "e1b44fbd",
   "metadata": {
    "scrolled": true
   },
   "outputs": [
    {
     "data": {
      "text/html": [
       "<style>.container { width:100% !important; }</style>"
      ],
      "text/plain": [
       "<IPython.core.display.HTML object>"
      ]
     },
     "metadata": {},
     "output_type": "display_data"
    }
   ],
   "source": [
    "from mysql.connector import connect\n",
    "from elasticsearch import Elasticsearch, helpers\n",
    "from ssl import create_default_context\n",
    "import json\n",
    "import pandas as pd\n",
    "import datetime\n",
    "\n",
    "from ssl import create_default_context, CERT_NONE\n",
    "from elasticsearch import Elasticsearch\n",
    "\n",
    "import warnings\n",
    "warnings.filterwarnings('ignore')\n",
    "\n",
    "from IPython.display import display, HTML \n",
    "display(HTML(\"<style>.container { width:100% !important; }</style>\"))\n",
    "\n",
    "import os\n",
    "from elasticsearch import Elasticsearch, helpers\n",
    "from ssl import create_default_context, CERT_NONE\n",
    "import json\n",
    "import pandas as pd\n",
    "import datetime\n",
    "import logging\n",
    "import re"
   ]
  },
  {
   "cell_type": "markdown",
   "id": "56168c3b",
   "metadata": {},
   "source": [
    "# Alphabet generator"
   ]
  },
  {
   "cell_type": "code",
   "execution_count": 2,
   "id": "74e4527f",
   "metadata": {},
   "outputs": [
    {
     "name": "stdout",
     "output_type": "stream",
     "text": [
      "['a', 'b', 'c', 'd', 'e', 'f', 'g', 'h', 'i', 'j', 'k', 'l', 'm', 'n', 'o', 'p', 'q', 'r', 's', 't', 'u', 'v', 'w', 'x', 'y', 'z']\n"
     ]
    }
   ],
   "source": [
    "# use the string module\n",
    "import string\n",
    "alphabet_list = list(string.ascii_lowercase)\n",
    "\n",
    "print(alphabet_list)"
   ]
  },
  {
   "cell_type": "markdown",
   "id": "ef4bcc69",
   "metadata": {},
   "source": [
    "# ES connection settup"
   ]
  },
  {
   "cell_type": "code",
   "execution_count": 4,
   "id": "9c5ef3d9",
   "metadata": {},
   "outputs": [
    {
     "name": "stdout",
     "output_type": "stream",
     "text": [
      "{'name': '44b52d9c8e08', 'cluster_name': 'docker-cluster', 'cluster_uuid': '0XOBCloyQGW6WDdj1nbg3Q', 'version': {'number': '8.12.2', 'build_flavor': 'default', 'build_type': 'docker', 'build_hash': '48a287ab9497e852de30327444b0809e55d46466', 'build_date': '2024-02-19T10:04:32.774273190Z', 'build_snapshot': False, 'lucene_version': '9.9.2', 'minimum_wire_compatibility_version': '7.17.0', 'minimum_index_compatibility_version': '7.0.0'}, 'tagline': 'You Know, for Search'}\n",
      "yellow\n"
     ]
    },
    {
     "data": {
      "text/plain": [
       "['status_of_[master_is_stable] : green',\n",
       " 'status_of_[repository_integrity] : green',\n",
       " 'status_of_[disk] : green',\n",
       " 'status_of_[shards_capacity] : green',\n",
       " 'status_of_[shards_availability] : yellow',\n",
       " 'status_of_[slm] : green',\n",
       " 'status_of_[ilm] : green']"
      ]
     },
     "execution_count": 4,
     "metadata": {},
     "output_type": "execute_result"
    }
   ],
   "source": [
    "def create_es_connection():\n",
    "    # Load certificate path and credentials from environment variables\n",
    "    cafile_path = os.getenv('ES_CAFILE_PATH', r\"D:\\markding_git\\big-data-ai-integration-platform\\search_system\\es_certs\\http_ca.crt\")\n",
    "    es_host = os.getenv('ES_HOST', 'http://localhost:9200')\n",
    "    es_user = os.getenv('ES_USER', 'elastic')\n",
    "    es_password = os.getenv('ES_PASSWORD', 'gAcstb8v-lFCVzCBC__a')\n",
    "    # uWzW*VOzBZknR-Jt3T7i\n",
    "    context = create_default_context(cafile=cafile_path)\n",
    "    # context.check_hostname = True  # Ensure hostname is checked\n",
    "    # context.verify_mode = CERT_REQUIRED  # Ensure the certificate is verified\n",
    "\n",
    "    context.check_hostname = False\n",
    "    context.verify_mode = CERT_NONE\n",
    "    \n",
    "    es = Elasticsearch(\n",
    "                [es_host],\n",
    "                http_auth=(es_user, es_password),\n",
    "                verify_certs=False,\n",
    "                )\n",
    "    return es\n",
    "\n",
    "es = create_es_connection()\n",
    "print(es.info())\n",
    "\n",
    "es_health = es.health_report()\n",
    "print(es_health['status'])\n",
    "indicators = es_health['indicators']\n",
    "[f\"status_of_[{i}] : {indicators[i]['status']}\" for i in indicators.keys()]"
   ]
  },
  {
   "cell_type": "code",
   "execution_count": 5,
   "id": "fd8e8813",
   "metadata": {},
   "outputs": [],
   "source": [
    "def es_mapping(df, column_types_dict):\n",
    "    \"\"\"\n",
    "    Generate Elasticsearch mapping based on the DataFrame and a column-to-Python type dictionary.\n",
    "\n",
    "    Args:\n",
    "        df (pandas.DataFrame): The DataFrame to be indexed.\n",
    "        column_types_dict (dict): Dictionary mapping columns to Python types.\n",
    "\n",
    "    Returns:\n",
    "        dict: Elasticsearch mapping dictionary.\n",
    "    \"\"\"\n",
    "\n",
    "    # Define a mapping from Python types to Elasticsearch types\n",
    "    type_conversion = {\n",
    "        'object': 'keyword',  # Typically strings in Pandas\n",
    "        'int64': 'integer',\n",
    "        'int32': 'integer',\n",
    "        'float64': 'float',\n",
    "        'float32': 'float',\n",
    "        'bool': 'boolean',\n",
    "        'datetime64[ns]': 'date',\n",
    "        'timedelta[ns]': 'long',\n",
    "        'category': 'keyword',\n",
    "    }\n",
    "\n",
    "    # Generate the Elasticsearch mapping using the provided column types\n",
    "    mapping = {\n",
    "        \"mappings\": {\n",
    "            \"properties\": {\n",
    "                col: {\n",
    "                    \"type\": type_conversion.get(column_types_dict[col], \"text\"),  # Default to \"text\"\n",
    "                    \"ignore_malformed\": True if type_conversion.get(column_types_dict[col]) in [\"integer\", \"float\"] else False\n",
    "                }\n",
    "                for col in df.columns\n",
    "            }\n",
    "        }\n",
    "    }\n",
    "\n",
    "    logger.info(f\"Mapping: {mapping}\")\n",
    "    return mapping"
   ]
  },
  {
   "cell_type": "code",
   "execution_count": 6,
   "id": "c8757945",
   "metadata": {},
   "outputs": [],
   "source": [
    "# Function to create a MySQL connection\n",
    "def mysql_connection_whole_corp():\n",
    "    return connect(host='localhost',\n",
    "                   port=3307,\n",
    "                   user='root',\n",
    "                   password='!QAZ2wsx',\n",
    "                   database='whole_corp')\n",
    "\n",
    "con = mysql_connection_whole_corp()\n",
    "cursor = con.cursor()\n",
    "\n",
    "cursor.execute('select * from whole_corp limit 100')\n",
    "result = cursor.fetchall()\n",
    "\n",
    "df = pd.DataFrame(result, columns= cursor.column_names)\n"
   ]
  },
  {
   "cell_type": "code",
   "execution_count": 18,
   "id": "130893cf",
   "metadata": {},
   "outputs": [
    {
     "name": "stdout",
     "output_type": "stream",
     "text": [
      "False\n",
      "False\n",
      "False\n",
      "False\n",
      "False\n",
      "False\n",
      "False\n",
      "False\n",
      "False\n",
      "False\n",
      "False\n",
      "False\n",
      "False\n",
      "False\n",
      "False\n",
      "False\n",
      "False\n",
      "False\n",
      "False\n",
      "False\n",
      "False\n",
      "False\n",
      "False\n",
      "False\n",
      "False\n",
      "False\n",
      "False\n",
      "False\n",
      "False\n",
      "False\n",
      "False\n",
      "False\n",
      "False\n",
      "False\n",
      "False\n",
      "False\n",
      "False\n",
      "False\n",
      "False\n",
      "False\n",
      "False\n",
      "False\n",
      "False\n",
      "False\n",
      "False\n",
      "False\n",
      "False\n",
      "False\n",
      "False\n",
      "False\n",
      "False\n",
      "False\n",
      "False\n",
      "False\n",
      "False\n",
      "False\n",
      "False\n",
      "False\n",
      "False\n",
      "False\n",
      "False\n",
      "False\n",
      "False\n",
      "False\n",
      "False\n",
      "False\n",
      "False\n",
      "False\n",
      "False\n",
      "False\n",
      "False\n",
      "False\n",
      "False\n",
      "False\n",
      "False\n",
      "False\n",
      "False\n",
      "False\n",
      "False\n",
      "False\n",
      "False\n",
      "False\n",
      "False\n",
      "False\n",
      "False\n",
      "False\n",
      "False\n",
      "False\n",
      "False\n",
      "False\n",
      "False\n",
      "False\n",
      "False\n",
      "False\n",
      "False\n",
      "False\n",
      "False\n",
      "False\n",
      "False\n",
      "False\n"
     ]
    }
   ],
   "source": [
    "for _, i in df.iterrows():\n",
    "    print(i['資本額'] == None)"
   ]
  },
  {
   "cell_type": "code",
   "execution_count": 28,
   "id": "c5346fde",
   "metadata": {},
   "outputs": [
    {
     "data": {
      "text/plain": [
       "ObjectApiResponse({'took': 0, 'timed_out': False, '_shards': {'total': 1, 'successful': 1, 'skipped': 0, 'failed': 0}, 'hits': {'total': {'value': 3, 'relation': 'eq'}, 'max_score': 1.0, 'hits': [{'_index': 'template_list', '_id': 'rRSBDZEBepgBNL0BoP0w', '_score': 1.0, '_source': {'email': 'sample1@email.com', '手機': 933123456, '中文姓名': '王小明', '公司名稱': '英丰寶', '部門': 'IT', '職稱': '工程師', '電話區碼': 2, '電話': 26551111, '分機': 866, '統一編號': 89594201, '產業別': '軟體資訊', '生日': '1990-01-01', '性別': '男', '郵遞區號': 106, '地址': '台北市大安區敦化南路二段76號7樓', '資料來源': '英丰寶'}}, {'_index': 'template_list', '_id': 'rhSBDZEBepgBNL0BoP0w', '_score': 1.0, '_source': {'email': 'sample2@email.com', '手機': 933123457, '中文姓名': '李小君', '公司名稱': '英丰寶', '部門': '行銷', '職稱': '專員', '電話區碼': 3, '電話': 26551112, '分機': 862, '統一編號': 89594201, '產業別': '軟體資訊', '生日': '1990-01-02', '性別': '女', '郵遞區號': 106, '地址': '台北市大安區敦化南路二段76號7樓', '資料來源': '英丰寶'}}, {'_index': 'template_list', '_id': 'rxSBDZEBepgBNL0BoP0w', '_score': 1.0, '_source': {'email': 'sample3@email.com', '手機': 956821547, '中文姓名': '陳小涵', '公司名稱': '英丰寶', '部門': '行銷', '職稱': 'PM', '電話區碼': 4, '電話': 26551113, '分機': 862, '統一編號': 89594201, '產業別': '軟體資訊', '生日': '1990-01-03', '性別': '女', '郵遞區號': 106, '地址': '台北市大安區敦化南路二段76號7樓', '資料來源': '英丰寶'}}]}})"
      ]
     },
     "execution_count": 28,
     "metadata": {},
     "output_type": "execute_result"
    }
   ],
   "source": [
    "es.search(index='template_list', body={\"query\": {\"match_all\": {}}})"
   ]
  },
  {
   "cell_type": "markdown",
   "id": "a861c379",
   "metadata": {},
   "source": [
    "# Mapping for each tables"
   ]
  },
  {
   "cell_type": "markdown",
   "id": "eff47777",
   "metadata": {},
   "source": [
    "# Create index with mapping in ES"
   ]
  },
  {
   "cell_type": "code",
   "execution_count": 19,
   "id": "de891e2b",
   "metadata": {},
   "outputs": [
    {
     "name": "stdout",
     "output_type": "stream",
     "text": [
      "/n=============response, es.indices.get_mapping(index=whole_corp)=============\n",
      "{'acknowledged': True, 'shards_acknowledged': True, 'index': 'whole_corp'} {'whole_corp': {'mappings': {'properties': {'公司名稱': {'type': 'text', 'fields': {'raw': {'type': 'keyword'}}, 'analyzer': 'traditional_chinese_analyzer'}, '區域名稱': {'type': 'keyword'}, '官網': {'type': 'keyword', 'index': False}, '營業項目及代碼表': {'type': 'text', 'fields': {'raw': {'type': 'keyword'}}, 'analyzer': 'traditional_chinese_analyzer'}, '登記地址': {'type': 'text'}, '統一編號': {'type': 'keyword'}, '縣市區域': {'type': 'keyword'}, '縣市名稱': {'type': 'keyword'}, '負責人': {'type': 'text', 'fields': {'keyword': {'type': 'keyword'}}}, '資本額': {'type': 'double'}, '電話': {'type': 'keyword'}, '類別_全': {'type': 'text', 'fields': {'raw': {'type': 'keyword'}}, 'analyzer': 'traditional_chinese_analyzer'}}}}}\n"
     ]
    }
   ],
   "source": [
    "if __name__ == '__main__':\n",
    "    es = create_es_connection()\n",
    "    index_name = 'whole_corp'\n",
    "    if es.indices.exists(index = index_name):\n",
    "        if str(input('Index {index_name} already exists. Delete? [y/n]').lower()) == 'y':\n",
    "            es.indices.delete(index=index_name)\n",
    "        else:\n",
    "            print('count:', es.count(index = index_name))\n",
    "\n",
    "    response = es.indices.create(index=index_name, body=corp_mapping())\n",
    "    \n",
    "    # Checking mapping in each index\n",
    "    print(f\"/n=============response, es.indices.get_mapping(index={index_name})=============\")\n",
    "    print(response, es.indices.get_mapping(index=index_name))\n",
    "    "
   ]
  },
  {
   "cell_type": "markdown",
   "id": "86915691",
   "metadata": {},
   "source": [
    "# Adjusted mapping"
   ]
  },
  {
   "cell_type": "code",
   "execution_count": 19,
   "id": "696148ba",
   "metadata": {},
   "outputs": [],
   "source": [
    "'''-----------------------------Create mapping for user----------------------------------'''\n",
    "def corp_mapping():\n",
    "    # Define the settings for the custom analyzer\n",
    "    body = {\n",
    "        \"properties\": {\n",
    "          \"cluster\": {\n",
    "            \"type\": \"keyword\"\n",
    "          },\n",
    "          \"vector\": {\n",
    "            \"type\": \"dense_vector\",\n",
    "            \"dims\": 100    # // must match your model output\n",
    "          }\n",
    "        }\n",
    "      }\n",
    "\n",
    "    return body\n"
   ]
  },
  {
   "cell_type": "code",
   "execution_count": 20,
   "id": "67b125b5",
   "metadata": {},
   "outputs": [
    {
     "data": {
      "text/plain": [
       "ObjectApiResponse({'acknowledged': True})"
      ]
     },
     "execution_count": 20,
     "metadata": {},
     "output_type": "execute_result"
    }
   ],
   "source": [
    "es.indices.put_mapping(index='whole_corp', body=corp_mapping())"
   ]
  },
  {
   "cell_type": "markdown",
   "id": "78f3ed74",
   "metadata": {},
   "source": [
    "# Import data"
   ]
  },
  {
   "cell_type": "code",
   "execution_count": null,
   "id": "86121530",
   "metadata": {},
   "outputs": [
    {
     "name": "stdout",
     "output_type": "stream",
     "text": [
      "index name : [whole_corp] {'count': 1144129, '_shards': {'total': 1, 'successful': 1, 'skipped': 0, 'failed': 0}}\n"
     ]
    }
   ],
   "source": [
    "es = create_es_connection()\n",
    "for index_name in ['whole_corp']:\n",
    "    try:\n",
    "        print(f'index name : [{index_name}]',es.count(index=index_name.lower()))\n",
    "    except Exception as e:\n",
    "        print(f'\\n==============no values in index name [{index_name}]================')\n",
    "es.close()"
   ]
  },
  {
   "cell_type": "code",
   "execution_count": null,
   "id": "9d97c838",
   "metadata": {},
   "outputs": [
    {
     "ename": "BadRequestError",
     "evalue": "BadRequestError(400, 'resource_already_exists_exception', 'index [whole_corp/ThaN78eZT9KDRpBMFHo8fw] already exists')",
     "output_type": "error",
     "traceback": [
      "\u001b[1;31m---------------------------------------------------------------------------\u001b[0m",
      "\u001b[1;31mBadRequestError\u001b[0m                           Traceback (most recent call last)",
      "Cell \u001b[1;32mIn[9], line 1\u001b[0m\n\u001b[1;32m----> 1\u001b[0m \u001b[43mes\u001b[49m\u001b[38;5;241;43m.\u001b[39;49m\u001b[43mindices\u001b[49m\u001b[38;5;241;43m.\u001b[39;49m\u001b[43mcreate\u001b[49m\u001b[43m(\u001b[49m\u001b[43mindex\u001b[49m\u001b[38;5;241;43m=\u001b[39;49m\u001b[38;5;124;43m'\u001b[39;49m\u001b[38;5;124;43mwhole_corp\u001b[39;49m\u001b[38;5;124;43m'\u001b[39;49m\u001b[43m)\u001b[49m\n",
      "File \u001b[1;32md:\\miniconda3\\envs\\nexva_penta_integration_env\\lib\\site-packages\\elasticsearch\\_sync\\client\\utils.py:452\u001b[0m, in \u001b[0;36m_rewrite_parameters.<locals>.wrapper.<locals>.wrapped\u001b[1;34m(*args, **kwargs)\u001b[0m\n\u001b[0;32m    449\u001b[0m         \u001b[38;5;28;01mexcept\u001b[39;00m \u001b[38;5;167;01mKeyError\u001b[39;00m:\n\u001b[0;32m    450\u001b[0m             \u001b[38;5;28;01mpass\u001b[39;00m\n\u001b[1;32m--> 452\u001b[0m \u001b[38;5;28;01mreturn\u001b[39;00m api(\u001b[38;5;241m*\u001b[39margs, \u001b[38;5;241m*\u001b[39m\u001b[38;5;241m*\u001b[39mkwargs)\n",
      "File \u001b[1;32md:\\miniconda3\\envs\\nexva_penta_integration_env\\lib\\site-packages\\elasticsearch\\_sync\\client\\indices.py:705\u001b[0m, in \u001b[0;36mIndicesClient.create\u001b[1;34m(self, index, aliases, error_trace, filter_path, human, mappings, master_timeout, pretty, settings, timeout, wait_for_active_shards, body)\u001b[0m\n\u001b[0;32m    703\u001b[0m \u001b[38;5;28;01mif\u001b[39;00m __body \u001b[38;5;129;01mis\u001b[39;00m \u001b[38;5;129;01mnot\u001b[39;00m \u001b[38;5;28;01mNone\u001b[39;00m:\n\u001b[0;32m    704\u001b[0m     __headers[\u001b[38;5;124m\"\u001b[39m\u001b[38;5;124mcontent-type\u001b[39m\u001b[38;5;124m\"\u001b[39m] \u001b[38;5;241m=\u001b[39m \u001b[38;5;124m\"\u001b[39m\u001b[38;5;124mapplication/json\u001b[39m\u001b[38;5;124m\"\u001b[39m\n\u001b[1;32m--> 705\u001b[0m \u001b[38;5;28;01mreturn\u001b[39;00m \u001b[38;5;28;43mself\u001b[39;49m\u001b[38;5;241;43m.\u001b[39;49m\u001b[43mperform_request\u001b[49m\u001b[43m(\u001b[49m\u001b[43m  \u001b[49m\u001b[38;5;66;43;03m# type: ignore[return-value]\u001b[39;49;00m\n\u001b[0;32m    706\u001b[0m \u001b[43m    \u001b[49m\u001b[38;5;124;43m\"\u001b[39;49m\u001b[38;5;124;43mPUT\u001b[39;49m\u001b[38;5;124;43m\"\u001b[39;49m\u001b[43m,\u001b[49m\n\u001b[0;32m    707\u001b[0m \u001b[43m    \u001b[49m\u001b[43m__path\u001b[49m\u001b[43m,\u001b[49m\n\u001b[0;32m    708\u001b[0m \u001b[43m    \u001b[49m\u001b[43mparams\u001b[49m\u001b[38;5;241;43m=\u001b[39;49m\u001b[43m__query\u001b[49m\u001b[43m,\u001b[49m\n\u001b[0;32m    709\u001b[0m \u001b[43m    \u001b[49m\u001b[43mheaders\u001b[49m\u001b[38;5;241;43m=\u001b[39;49m\u001b[43m__headers\u001b[49m\u001b[43m,\u001b[49m\n\u001b[0;32m    710\u001b[0m \u001b[43m    \u001b[49m\u001b[43mbody\u001b[49m\u001b[38;5;241;43m=\u001b[39;49m\u001b[43m__body\u001b[49m\u001b[43m,\u001b[49m\n\u001b[0;32m    711\u001b[0m \u001b[43m    \u001b[49m\u001b[43mendpoint_id\u001b[49m\u001b[38;5;241;43m=\u001b[39;49m\u001b[38;5;124;43m\"\u001b[39;49m\u001b[38;5;124;43mindices.create\u001b[39;49m\u001b[38;5;124;43m\"\u001b[39;49m\u001b[43m,\u001b[49m\n\u001b[0;32m    712\u001b[0m \u001b[43m    \u001b[49m\u001b[43mpath_parts\u001b[49m\u001b[38;5;241;43m=\u001b[39;49m\u001b[43m__path_parts\u001b[49m\u001b[43m,\u001b[49m\n\u001b[0;32m    713\u001b[0m \u001b[43m\u001b[49m\u001b[43m)\u001b[49m\n",
      "File \u001b[1;32md:\\miniconda3\\envs\\nexva_penta_integration_env\\lib\\site-packages\\elasticsearch\\_sync\\client\\_base.py:422\u001b[0m, in \u001b[0;36mNamespacedClient.perform_request\u001b[1;34m(self, method, path, params, headers, body, endpoint_id, path_parts)\u001b[0m\n\u001b[0;32m    409\u001b[0m \u001b[38;5;28;01mdef\u001b[39;00m\u001b[38;5;250m \u001b[39m\u001b[38;5;21mperform_request\u001b[39m(\n\u001b[0;32m    410\u001b[0m     \u001b[38;5;28mself\u001b[39m,\n\u001b[0;32m    411\u001b[0m     method: \u001b[38;5;28mstr\u001b[39m,\n\u001b[1;32m   (...)\u001b[0m\n\u001b[0;32m    420\u001b[0m     \u001b[38;5;66;03m# Use the internal clients .perform_request() implementation\u001b[39;00m\n\u001b[0;32m    421\u001b[0m     \u001b[38;5;66;03m# so we take advantage of their transport options.\u001b[39;00m\n\u001b[1;32m--> 422\u001b[0m     \u001b[38;5;28;01mreturn\u001b[39;00m \u001b[38;5;28;43mself\u001b[39;49m\u001b[38;5;241;43m.\u001b[39;49m\u001b[43m_client\u001b[49m\u001b[38;5;241;43m.\u001b[39;49m\u001b[43mperform_request\u001b[49m\u001b[43m(\u001b[49m\n\u001b[0;32m    423\u001b[0m \u001b[43m        \u001b[49m\u001b[43mmethod\u001b[49m\u001b[43m,\u001b[49m\n\u001b[0;32m    424\u001b[0m \u001b[43m        \u001b[49m\u001b[43mpath\u001b[49m\u001b[43m,\u001b[49m\n\u001b[0;32m    425\u001b[0m \u001b[43m        \u001b[49m\u001b[43mparams\u001b[49m\u001b[38;5;241;43m=\u001b[39;49m\u001b[43mparams\u001b[49m\u001b[43m,\u001b[49m\n\u001b[0;32m    426\u001b[0m \u001b[43m        \u001b[49m\u001b[43mheaders\u001b[49m\u001b[38;5;241;43m=\u001b[39;49m\u001b[43mheaders\u001b[49m\u001b[43m,\u001b[49m\n\u001b[0;32m    427\u001b[0m \u001b[43m        \u001b[49m\u001b[43mbody\u001b[49m\u001b[38;5;241;43m=\u001b[39;49m\u001b[43mbody\u001b[49m\u001b[43m,\u001b[49m\n\u001b[0;32m    428\u001b[0m \u001b[43m        \u001b[49m\u001b[43mendpoint_id\u001b[49m\u001b[38;5;241;43m=\u001b[39;49m\u001b[43mendpoint_id\u001b[49m\u001b[43m,\u001b[49m\n\u001b[0;32m    429\u001b[0m \u001b[43m        \u001b[49m\u001b[43mpath_parts\u001b[49m\u001b[38;5;241;43m=\u001b[39;49m\u001b[43mpath_parts\u001b[49m\u001b[43m,\u001b[49m\n\u001b[0;32m    430\u001b[0m \u001b[43m    \u001b[49m\u001b[43m)\u001b[49m\n",
      "File \u001b[1;32md:\\miniconda3\\envs\\nexva_penta_integration_env\\lib\\site-packages\\elasticsearch\\_sync\\client\\_base.py:271\u001b[0m, in \u001b[0;36mBaseClient.perform_request\u001b[1;34m(self, method, path, params, headers, body, endpoint_id, path_parts)\u001b[0m\n\u001b[0;32m    255\u001b[0m \u001b[38;5;28;01mdef\u001b[39;00m\u001b[38;5;250m \u001b[39m\u001b[38;5;21mperform_request\u001b[39m(\n\u001b[0;32m    256\u001b[0m     \u001b[38;5;28mself\u001b[39m,\n\u001b[0;32m    257\u001b[0m     method: \u001b[38;5;28mstr\u001b[39m,\n\u001b[1;32m   (...)\u001b[0m\n\u001b[0;32m    264\u001b[0m     path_parts: Optional[Mapping[\u001b[38;5;28mstr\u001b[39m, Any]] \u001b[38;5;241m=\u001b[39m \u001b[38;5;28;01mNone\u001b[39;00m,\n\u001b[0;32m    265\u001b[0m ) \u001b[38;5;241m-\u001b[39m\u001b[38;5;241m>\u001b[39m ApiResponse[Any]:\n\u001b[0;32m    266\u001b[0m     \u001b[38;5;28;01mwith\u001b[39;00m \u001b[38;5;28mself\u001b[39m\u001b[38;5;241m.\u001b[39m_otel\u001b[38;5;241m.\u001b[39mspan(\n\u001b[0;32m    267\u001b[0m         method,\n\u001b[0;32m    268\u001b[0m         endpoint_id\u001b[38;5;241m=\u001b[39mendpoint_id,\n\u001b[0;32m    269\u001b[0m         path_parts\u001b[38;5;241m=\u001b[39mpath_parts \u001b[38;5;129;01mor\u001b[39;00m {},\n\u001b[0;32m    270\u001b[0m     ) \u001b[38;5;28;01mas\u001b[39;00m otel_span:\n\u001b[1;32m--> 271\u001b[0m         response \u001b[38;5;241m=\u001b[39m \u001b[38;5;28;43mself\u001b[39;49m\u001b[38;5;241;43m.\u001b[39;49m\u001b[43m_perform_request\u001b[49m\u001b[43m(\u001b[49m\n\u001b[0;32m    272\u001b[0m \u001b[43m            \u001b[49m\u001b[43mmethod\u001b[49m\u001b[43m,\u001b[49m\n\u001b[0;32m    273\u001b[0m \u001b[43m            \u001b[49m\u001b[43mpath\u001b[49m\u001b[43m,\u001b[49m\n\u001b[0;32m    274\u001b[0m \u001b[43m            \u001b[49m\u001b[43mparams\u001b[49m\u001b[38;5;241;43m=\u001b[39;49m\u001b[43mparams\u001b[49m\u001b[43m,\u001b[49m\n\u001b[0;32m    275\u001b[0m \u001b[43m            \u001b[49m\u001b[43mheaders\u001b[49m\u001b[38;5;241;43m=\u001b[39;49m\u001b[43mheaders\u001b[49m\u001b[43m,\u001b[49m\n\u001b[0;32m    276\u001b[0m \u001b[43m            \u001b[49m\u001b[43mbody\u001b[49m\u001b[38;5;241;43m=\u001b[39;49m\u001b[43mbody\u001b[49m\u001b[43m,\u001b[49m\n\u001b[0;32m    277\u001b[0m \u001b[43m            \u001b[49m\u001b[43motel_span\u001b[49m\u001b[38;5;241;43m=\u001b[39;49m\u001b[43motel_span\u001b[49m\u001b[43m,\u001b[49m\n\u001b[0;32m    278\u001b[0m \u001b[43m        \u001b[49m\u001b[43m)\u001b[49m\n\u001b[0;32m    279\u001b[0m         otel_span\u001b[38;5;241m.\u001b[39mset_elastic_cloud_metadata(response\u001b[38;5;241m.\u001b[39mmeta\u001b[38;5;241m.\u001b[39mheaders)\n\u001b[0;32m    280\u001b[0m         \u001b[38;5;28;01mreturn\u001b[39;00m response\n",
      "File \u001b[1;32md:\\miniconda3\\envs\\nexva_penta_integration_env\\lib\\site-packages\\elasticsearch\\_sync\\client\\_base.py:351\u001b[0m, in \u001b[0;36mBaseClient._perform_request\u001b[1;34m(self, method, path, params, headers, body, otel_span)\u001b[0m\n\u001b[0;32m    348\u001b[0m         \u001b[38;5;28;01mexcept\u001b[39;00m (\u001b[38;5;167;01mValueError\u001b[39;00m, \u001b[38;5;167;01mKeyError\u001b[39;00m, \u001b[38;5;167;01mTypeError\u001b[39;00m):\n\u001b[0;32m    349\u001b[0m             \u001b[38;5;28;01mpass\u001b[39;00m\n\u001b[1;32m--> 351\u001b[0m     \u001b[38;5;28;01mraise\u001b[39;00m HTTP_EXCEPTIONS\u001b[38;5;241m.\u001b[39mget(meta\u001b[38;5;241m.\u001b[39mstatus, ApiError)(\n\u001b[0;32m    352\u001b[0m         message\u001b[38;5;241m=\u001b[39mmessage, meta\u001b[38;5;241m=\u001b[39mmeta, body\u001b[38;5;241m=\u001b[39mresp_body\n\u001b[0;32m    353\u001b[0m     )\n\u001b[0;32m    355\u001b[0m \u001b[38;5;66;03m# 'X-Elastic-Product: Elasticsearch' should be on every 2XX response.\u001b[39;00m\n\u001b[0;32m    356\u001b[0m \u001b[38;5;28;01mif\u001b[39;00m \u001b[38;5;129;01mnot\u001b[39;00m \u001b[38;5;28mself\u001b[39m\u001b[38;5;241m.\u001b[39m_verified_elasticsearch:\n\u001b[0;32m    357\u001b[0m     \u001b[38;5;66;03m# If the header is set we mark the server as verified.\u001b[39;00m\n",
      "\u001b[1;31mBadRequestError\u001b[0m: BadRequestError(400, 'resource_already_exists_exception', 'index [whole_corp/ThaN78eZT9KDRpBMFHo8fw] already exists')"
     ]
    }
   ],
   "source": [
    "es.indices.delete(index='whole_corp')"
   ]
  },
  {
   "cell_type": "markdown",
   "id": "92da7268",
   "metadata": {},
   "source": [
    "# Data import to ES from mysql"
   ]
  },
  {
   "cell_type": "code",
   "execution_count": null,
   "id": "9dd94e18",
   "metadata": {
    "collapsed": true
   },
   "outputs": [
    {
     "name": "stdout",
     "output_type": "stream",
     "text": [
      "==================================errors: ===============================\n",
      "[{'index': {'_index': 'whole_corp', '_id': '1CmiJ5kBifl7WjgxL4wN', 'status': 400, 'error': {'type': 'document_parsing_exception', 'reason': \"[1:169] failed to parse field [資本額] of type [double] in document with id '1CmiJ5kBifl7WjgxL4wN'. Preview of field's value: ' '\", 'caused_by': {'type': 'number_format_exception', 'reason': 'empty String'}}}}]\n",
      "==================================errors: ===============================\n",
      "[{'index': {'_index': 'whole_corp', '_id': 'wCmiJ5kBifl7WjgxMJT-', 'status': 400, 'error': {'type': 'document_parsing_exception', 'reason': \"[1:157] failed to parse field [資本額] of type [double] in document with id 'wCmiJ5kBifl7WjgxMJT-'. Preview of field's value: ' '\", 'caused_by': {'type': 'number_format_exception', 'reason': 'empty String'}}}}, {'index': {'_index': 'whole_corp', '_id': 'TSmiJ5kBifl7WjgxMZU6', 'status': 400, 'error': {'type': 'document_parsing_exception', 'reason': \"[1:175] failed to parse field [資本額] of type [double] in document with id 'TSmiJ5kBifl7WjgxMZU6'. Preview of field's value: ' '\", 'caused_by': {'type': 'number_format_exception', 'reason': 'empty String'}}}}]\n",
      "==================================errors: ===============================\n",
      "[{'index': {'_index': 'whole_corp', '_id': 'SimiJ5kBifl7WjgxM5-j', 'status': 400, 'error': {'type': 'document_parsing_exception', 'reason': \"[1:155] failed to parse field [資本額] of type [double] in document with id 'SimiJ5kBifl7WjgxM5-j'. Preview of field's value: ' '\", 'caused_by': {'type': 'number_format_exception', 'reason': 'empty String'}}}}, {'index': {'_index': 'whole_corp', '_id': 'MCmiJ5kBifl7WjgxM6H_', 'status': 400, 'error': {'type': 'document_parsing_exception', 'reason': \"[1:191] failed to parse field [資本額] of type [double] in document with id 'MCmiJ5kBifl7WjgxM6H_'. Preview of field's value: ' '\", 'caused_by': {'type': 'number_format_exception', 'reason': 'empty String'}}}}]\n",
      "==================================errors: ===============================\n",
      "[{'index': {'_index': 'whole_corp', '_id': 'aCmiJ5kBifl7WjgxO74q', 'status': 400, 'error': {'type': 'document_parsing_exception', 'reason': \"[1:168] failed to parse field [資本額] of type [double] in document with id 'aCmiJ5kBifl7WjgxO74q'. Preview of field's value: ' '\", 'caused_by': {'type': 'number_format_exception', 'reason': 'empty String'}}}}, {'index': {'_index': 'whole_corp', '_id': 'mimiJ5kBifl7WjgxO74q', 'status': 400, 'error': {'type': 'document_parsing_exception', 'reason': \"[1:176] failed to parse field [資本額] of type [double] in document with id 'mimiJ5kBifl7WjgxO74q'. Preview of field's value: ' '\", 'caused_by': {'type': 'number_format_exception', 'reason': 'empty String'}}}}, {'index': {'_index': 'whole_corp', '_id': 'xSmiJ5kBifl7WjgxO74q', 'status': 400, 'error': {'type': 'document_parsing_exception', 'reason': \"[1:175] failed to parse field [資本額] of type [double] in document with id 'xSmiJ5kBifl7WjgxO74q'. Preview of field's value: ' '\", 'caused_by': {'type': 'number_format_exception', 'reason': 'empty String'}}}}, {'index': {'_index': 'whole_corp', '_id': '3SmiJ5kBifl7WjgxO78q', 'status': 400, 'error': {'type': 'document_parsing_exception', 'reason': \"[1:160] failed to parse field [資本額] of type [double] in document with id '3SmiJ5kBifl7WjgxO78q'. Preview of field's value: ' '\", 'caused_by': {'type': 'number_format_exception', 'reason': 'empty String'}}}}]\n",
      "==================================errors: ===============================\n",
      "[{'index': {'_index': 'whole_corp', '_id': '4SmiJ5kBifl7WjgxPMVz', 'status': 400, 'error': {'type': 'document_parsing_exception', 'reason': \"[1:181] failed to parse field [資本額] of type [double] in document with id '4SmiJ5kBifl7WjgxPMVz'. Preview of field's value: ' '\", 'caused_by': {'type': 'number_format_exception', 'reason': 'empty String'}}}}]\n",
      "==================================errors: ===============================\n",
      "[{'index': {'_index': 'whole_corp', '_id': 'TimiJ5kBifl7WjgxQN-r', 'status': 400, 'error': {'type': 'document_parsing_exception', 'reason': \"[1:172] failed to parse field [資本額] of type [double] in document with id 'TimiJ5kBifl7WjgxQN-r'. Preview of field's value: ' '\", 'caused_by': {'type': 'number_format_exception', 'reason': 'empty String'}}}}, {'index': {'_index': 'whole_corp', '_id': 'dSmiJ5kBifl7WjgxQN-r', 'status': 400, 'error': {'type': 'document_parsing_exception', 'reason': \"[1:177] failed to parse field [資本額] of type [double] in document with id 'dSmiJ5kBifl7WjgxQN-r'. Preview of field's value: ' '\", 'caused_by': {'type': 'number_format_exception', 'reason': 'empty String'}}}}]\n",
      "==================================errors: ===============================\n",
      "[{'index': {'_index': 'whole_corp', '_id': 'pymiJ5kBifl7WjgxQuqF', 'status': 400, 'error': {'type': 'document_parsing_exception', 'reason': \"[1:177] failed to parse field [資本額] of type [double] in document with id 'pymiJ5kBifl7WjgxQuqF'. Preview of field's value: ' '\", 'caused_by': {'type': 'number_format_exception', 'reason': 'empty String'}}}}]\n",
      "==================================errors: ===============================\n",
      "[{'index': {'_index': 'whole_corp', '_id': 'nyqiJ5kBifl7WjgxTBwv', 'status': 400, 'error': {'type': 'document_parsing_exception', 'reason': \"[1:175] failed to parse field [資本額] of type [double] in document with id 'nyqiJ5kBifl7WjgxTBwv'. Preview of field's value: ' '\", 'caused_by': {'type': 'number_format_exception', 'reason': 'empty String'}}}}]\n",
      "==================================errors: ===============================\n",
      "[{'index': {'_index': 'whole_corp', '_id': '-yqiJ5kBifl7WjgxTysg', 'status': 400, 'error': {'type': 'document_parsing_exception', 'reason': \"[1:174] failed to parse field [資本額] of type [double] in document with id '-yqiJ5kBifl7WjgxTysg'. Preview of field's value: ' '\", 'caused_by': {'type': 'number_format_exception', 'reason': 'empty String'}}}}, {'index': {'_index': 'whole_corp', '_id': 'XSqiJ5kBifl7WjgxTy0g', 'status': 400, 'error': {'type': 'document_parsing_exception', 'reason': \"[1:170] failed to parse field [資本額] of type [double] in document with id 'XSqiJ5kBifl7WjgxTy0g'. Preview of field's value: ' '\", 'caused_by': {'type': 'number_format_exception', 'reason': 'empty String'}}}}, {'index': {'_index': 'whole_corp', '_id': 'tyqiJ5kBifl7WjgxTy5x', 'status': 400, 'error': {'type': 'document_parsing_exception', 'reason': \"[1:162] failed to parse field [資本額] of type [double] in document with id 'tyqiJ5kBifl7WjgxTy5x'. Preview of field's value: ' '\", 'caused_by': {'type': 'number_format_exception', 'reason': 'empty String'}}}}]\n",
      "==================================errors: ===============================\n",
      "[{'index': {'_index': 'whole_corp', '_id': 'EyqiJ5kBifl7WjgxUDIr', 'status': 400, 'error': {'type': 'document_parsing_exception', 'reason': \"[1:168] failed to parse field [資本額] of type [double] in document with id 'EyqiJ5kBifl7WjgxUDIr'. Preview of field's value: ' '\", 'caused_by': {'type': 'number_format_exception', 'reason': 'empty String'}}}}]\n",
      "==================================errors: ===============================\n",
      "[{'index': {'_index': 'whole_corp', '_id': 'tiqiJ5kBifl7WjgxUTr1', 'status': 400, 'error': {'type': 'document_parsing_exception', 'reason': \"[1:184] failed to parse field [資本額] of type [double] in document with id 'tiqiJ5kBifl7WjgxUTr1'. Preview of field's value: ' '\", 'caused_by': {'type': 'number_format_exception', 'reason': 'empty String'}}}}, {'index': {'_index': 'whole_corp', '_id': '0CqiJ5kBifl7WjgxUTr1', 'status': 400, 'error': {'type': 'document_parsing_exception', 'reason': \"[1:177] failed to parse field [資本額] of type [double] in document with id '0CqiJ5kBifl7WjgxUTr1'. Preview of field's value: ' '\", 'caused_by': {'type': 'number_format_exception', 'reason': 'empty String'}}}}, {'index': {'_index': 'whole_corp', '_id': 'PCqiJ5kBifl7WjgxUTv1', 'status': 400, 'error': {'type': 'document_parsing_exception', 'reason': \"[1:171] failed to parse field [資本額] of type [double] in document with id 'PCqiJ5kBifl7WjgxUTv1'. Preview of field's value: ' '\", 'caused_by': {'type': 'number_format_exception', 'reason': 'empty String'}}}}]\n",
      "==================================errors: ===============================\n",
      "[{'index': {'_index': 'whole_corp', '_id': 'UCqiJ5kBifl7WjgxUjuQ', 'status': 400, 'error': {'type': 'document_parsing_exception', 'reason': \"[1:184] failed to parse field [資本額] of type [double] in document with id 'UCqiJ5kBifl7WjgxUjuQ'. Preview of field's value: ' '\", 'caused_by': {'type': 'number_format_exception', 'reason': 'empty String'}}}}, {'index': {'_index': 'whole_corp', '_id': 'aCqiJ5kBifl7WjgxUjuQ', 'status': 400, 'error': {'type': 'document_parsing_exception', 'reason': \"[1:211] failed to parse field [資本額] of type [double] in document with id 'aCqiJ5kBifl7WjgxUjuQ'. Preview of field's value: ' '\", 'caused_by': {'type': 'number_format_exception', 'reason': 'empty String'}}}}, {'index': {'_index': 'whole_corp', '_id': 'hyqiJ5kBifl7WjgxUz1I', 'status': 400, 'error': {'type': 'document_parsing_exception', 'reason': \"[1:155] failed to parse field [資本額] of type [double] in document with id 'hyqiJ5kBifl7WjgxUz1I'. Preview of field's value: ' '\", 'caused_by': {'type': 'number_format_exception', 'reason': 'empty String'}}}}, {'index': {'_index': 'whole_corp', '_id': 'sCqiJ5kBifl7WjgxUz5I', 'status': 400, 'error': {'type': 'document_parsing_exception', 'reason': \"[1:195] failed to parse field [資本額] of type [double] in document with id 'sCqiJ5kBifl7WjgxUz5I'. Preview of field's value: ' '\", 'caused_by': {'type': 'number_format_exception', 'reason': 'empty String'}}}}, {'index': {'_index': 'whole_corp', '_id': 'uiqiJ5kBifl7WjgxUz5I', 'status': 400, 'error': {'type': 'document_parsing_exception', 'reason': \"[1:157] failed to parse field [資本額] of type [double] in document with id 'uiqiJ5kBifl7WjgxUz5I'. Preview of field's value: ' '\", 'caused_by': {'type': 'number_format_exception', 'reason': 'empty String'}}}}]\n",
      "==================================errors: ===============================\n",
      "[{'index': {'_index': 'whole_corp', '_id': 'YyqiJ5kBifl7WjgxU0CZ', 'status': 400, 'error': {'type': 'document_parsing_exception', 'reason': \"[1:170] failed to parse field [資本額] of type [double] in document with id 'YyqiJ5kBifl7WjgxU0CZ'. Preview of field's value: ' '\", 'caused_by': {'type': 'number_format_exception', 'reason': 'empty String'}}}}, {'index': {'_index': 'whole_corp', '_id': 'oCqiJ5kBifl7WjgxU0CZ', 'status': 400, 'error': {'type': 'document_parsing_exception', 'reason': \"[1:168] failed to parse field [資本額] of type [double] in document with id 'oCqiJ5kBifl7WjgxU0CZ'. Preview of field's value: ' '\", 'caused_by': {'type': 'number_format_exception', 'reason': 'empty String'}}}}, {'index': {'_index': 'whole_corp', '_id': 'cyqiJ5kBifl7WjgxU0Hp', 'status': 400, 'error': {'type': 'document_parsing_exception', 'reason': \"[1:172] failed to parse field [資本額] of type [double] in document with id 'cyqiJ5kBifl7WjgxU0Hp'. Preview of field's value: 'None'\", 'caused_by': {'type': 'number_format_exception', 'reason': 'For input string: \"None\"'}}}}, {'index': {'_index': 'whole_corp', '_id': 'dSqiJ5kBifl7WjgxU0Hp', 'status': 400, 'error': {'type': 'document_parsing_exception', 'reason': \"[1:187] failed to parse field [資本額] of type [double] in document with id 'dSqiJ5kBifl7WjgxU0Hp'. Preview of field's value: 'None'\", 'caused_by': {'type': 'number_format_exception', 'reason': 'For input string: \"None\"'}}}}]\n",
      "==================================errors: ===============================\n",
      "[{'index': {'_index': 'whole_corp', '_id': 'oSqiJ5kBifl7WjgxVEn4', 'status': 400, 'error': {'type': 'document_parsing_exception', 'reason': \"[1:174] failed to parse field [資本額] of type [double] in document with id 'oSqiJ5kBifl7WjgxVEn4'. Preview of field's value: ' '\", 'caused_by': {'type': 'number_format_exception', 'reason': 'empty String'}}}}, {'index': {'_index': 'whole_corp', '_id': 'riqiJ5kBifl7WjgxVEr5', 'status': 400, 'error': {'type': 'document_parsing_exception', 'reason': \"[1:177] failed to parse field [資本額] of type [double] in document with id 'riqiJ5kBifl7WjgxVEr5'. Preview of field's value: ' '\", 'caused_by': {'type': 'number_format_exception', 'reason': 'empty String'}}}}]\n",
      "==================================errors: ===============================\n",
      "[{'index': {'_index': 'whole_corp', '_id': 'gSqiJ5kBifl7WjgxVUtr', 'status': 400, 'error': {'type': 'document_parsing_exception', 'reason': \"[1:173] failed to parse field [資本額] of type [double] in document with id 'gSqiJ5kBifl7WjgxVUtr'. Preview of field's value: ' '\", 'caused_by': {'type': 'number_format_exception', 'reason': 'empty String'}}}}]\n",
      "==================================errors: ===============================\n",
      "[{'index': {'_index': 'whole_corp', '_id': 'IyqiJ5kBifl7WjgxVlBf', 'status': 400, 'error': {'type': 'document_parsing_exception', 'reason': \"[1:181] failed to parse field [資本額] of type [double] in document with id 'IyqiJ5kBifl7WjgxVlBf'. Preview of field's value: ' '\", 'caused_by': {'type': 'number_format_exception', 'reason': 'empty String'}}}}, {'index': {'_index': 'whole_corp', '_id': 'vSqiJ5kBifl7WjgxVlBf', 'status': 400, 'error': {'type': 'document_parsing_exception', 'reason': \"[1:191] failed to parse field [資本額] of type [double] in document with id 'vSqiJ5kBifl7WjgxVlBf'. Preview of field's value: ' '\", 'caused_by': {'type': 'number_format_exception', 'reason': 'empty String'}}}}, {'index': {'_index': 'whole_corp', '_id': 'iyqiJ5kBifl7WjgxVlK8', 'status': 400, 'error': {'type': 'document_parsing_exception', 'reason': \"[1:195] failed to parse field [資本額] of type [double] in document with id 'iyqiJ5kBifl7WjgxVlK8'. Preview of field's value: ' '\", 'caused_by': {'type': 'number_format_exception', 'reason': 'empty String'}}}}]\n",
      "==================================errors: ===============================\n",
      "[{'index': {'_index': 'whole_corp', '_id': 'OyqiJ5kBifl7WjgxV1M0', 'status': 400, 'error': {'type': 'document_parsing_exception', 'reason': \"[1:180] failed to parse field [資本額] of type [double] in document with id 'OyqiJ5kBifl7WjgxV1M0'. Preview of field's value: ' '\", 'caused_by': {'type': 'number_format_exception', 'reason': 'empty String'}}}}, {'index': {'_index': 'whole_corp', '_id': 'QyqiJ5kBifl7WjgxV1M0', 'status': 400, 'error': {'type': 'document_parsing_exception', 'reason': \"[1:176] failed to parse field [資本額] of type [double] in document with id 'QyqiJ5kBifl7WjgxV1M0'. Preview of field's value: ' '\", 'caused_by': {'type': 'number_format_exception', 'reason': 'empty String'}}}}, {'index': {'_index': 'whole_corp', '_id': 'ViqiJ5kBifl7WjgxV1M0', 'status': 400, 'error': {'type': 'document_parsing_exception', 'reason': \"[1:234] failed to parse field [資本額] of type [double] in document with id 'ViqiJ5kBifl7WjgxV1M0'. Preview of field's value: ' '\", 'caused_by': {'type': 'number_format_exception', 'reason': 'empty String'}}}}, {'index': {'_index': 'whole_corp', '_id': 'kiqiJ5kBifl7WjgxV1M0', 'status': 400, 'error': {'type': 'document_parsing_exception', 'reason': \"[1:179] failed to parse field [資本額] of type [double] in document with id 'kiqiJ5kBifl7WjgxV1M0'. Preview of field's value: ' '\", 'caused_by': {'type': 'number_format_exception', 'reason': 'empty String'}}}}, {'index': {'_index': 'whole_corp', '_id': 'oSqiJ5kBifl7WjgxV1M0', 'status': 400, 'error': {'type': 'document_parsing_exception', 'reason': \"[1:177] failed to parse field [資本額] of type [double] in document with id 'oSqiJ5kBifl7WjgxV1M0'. Preview of field's value: ' '\", 'caused_by': {'type': 'number_format_exception', 'reason': 'empty String'}}}}, {'index': {'_index': 'whole_corp', '_id': 'KyqiJ5kBifl7WjgxV1Q0', 'status': 400, 'error': {'type': 'document_parsing_exception', 'reason': \"[1:186] failed to parse field [資本額] of type [double] in document with id 'KyqiJ5kBifl7WjgxV1Q0'. Preview of field's value: ' '\", 'caused_by': {'type': 'number_format_exception', 'reason': 'empty String'}}}}, {'index': {'_index': 'whole_corp', '_id': 'TyqiJ5kBifl7WjgxV1Q0', 'status': 400, 'error': {'type': 'document_parsing_exception', 'reason': \"[1:171] failed to parse field [資本額] of type [double] in document with id 'TyqiJ5kBifl7WjgxV1Q0'. Preview of field's value: ' '\", 'caused_by': {'type': 'number_format_exception', 'reason': 'empty String'}}}}, {'index': {'_index': 'whole_corp', '_id': '9SqiJ5kBifl7WjgxV1Sa', 'status': 400, 'error': {'type': 'document_parsing_exception', 'reason': \"[1:171] failed to parse field [資本額] of type [double] in document with id '9SqiJ5kBifl7WjgxV1Sa'. Preview of field's value: ' '\", 'caused_by': {'type': 'number_format_exception', 'reason': 'empty String'}}}}, {'index': {'_index': 'whole_corp', '_id': '_CqiJ5kBifl7WjgxV1Sa', 'status': 400, 'error': {'type': 'document_parsing_exception', 'reason': \"[1:173] failed to parse field [資本額] of type [double] in document with id '_CqiJ5kBifl7WjgxV1Sa'. Preview of field's value: ' '\", 'caused_by': {'type': 'number_format_exception', 'reason': 'empty String'}}}}, {'index': {'_index': 'whole_corp', '_id': 'ACqiJ5kBifl7WjgxV1Wa', 'status': 400, 'error': {'type': 'document_parsing_exception', 'reason': \"[1:159] failed to parse field [資本額] of type [double] in document with id 'ACqiJ5kBifl7WjgxV1Wa'. Preview of field's value: ' '\", 'caused_by': {'type': 'number_format_exception', 'reason': 'empty String'}}}}, {'index': {'_index': 'whole_corp', '_id': 'ICqiJ5kBifl7WjgxV1Wa', 'status': 400, 'error': {'type': 'document_parsing_exception', 'reason': \"[1:180] failed to parse field [資本額] of type [double] in document with id 'ICqiJ5kBifl7WjgxV1Wa'. Preview of field's value: ' '\", 'caused_by': {'type': 'number_format_exception', 'reason': 'empty String'}}}}, {'index': {'_index': 'whole_corp', '_id': 'biqiJ5kBifl7WjgxV1Wa', 'status': 400, 'error': {'type': 'document_parsing_exception', 'reason': \"[1:174] failed to parse field [資本額] of type [double] in document with id 'biqiJ5kBifl7WjgxV1Wa'. Preview of field's value: ' '\", 'caused_by': {'type': 'number_format_exception', 'reason': 'empty String'}}}}, {'index': {'_index': 'whole_corp', '_id': 'ySqiJ5kBifl7WjgxV1Wa', 'status': 400, 'error': {'type': 'document_parsing_exception', 'reason': \"[1:172] failed to parse field [資本額] of type [double] in document with id 'ySqiJ5kBifl7WjgxV1Wa'. Preview of field's value: ' '\", 'caused_by': {'type': 'number_format_exception', 'reason': 'empty String'}}}}, {'index': {'_index': 'whole_corp', '_id': 'EiqiJ5kBifl7WjgxV1aa', 'status': 400, 'error': {'type': 'document_parsing_exception', 'reason': \"[1:184] failed to parse field [資本額] of type [double] in document with id 'EiqiJ5kBifl7WjgxV1aa'. Preview of field's value: ' '\", 'caused_by': {'type': 'number_format_exception', 'reason': 'empty String'}}}}, {'index': {'_index': 'whole_corp', '_id': 'HCqiJ5kBifl7WjgxV1aa', 'status': 400, 'error': {'type': 'document_parsing_exception', 'reason': \"[1:160] failed to parse field [資本額] of type [double] in document with id 'HCqiJ5kBifl7WjgxV1aa'. Preview of field's value: ' '\", 'caused_by': {'type': 'number_format_exception', 'reason': 'empty String'}}}}, {'index': {'_index': 'whole_corp', '_id': 'OiqiJ5kBifl7WjgxV1aa', 'status': 400, 'error': {'type': 'document_parsing_exception', 'reason': \"[1:176] failed to parse field [資本額] of type [double] in document with id 'OiqiJ5kBifl7WjgxV1aa'. Preview of field's value: ' '\", 'caused_by': {'type': 'number_format_exception', 'reason': 'empty String'}}}}, {'index': {'_index': 'whole_corp', '_id': 'QyqiJ5kBifl7WjgxV1aa', 'status': 400, 'error': {'type': 'document_parsing_exception', 'reason': \"[1:178] failed to parse field [資本額] of type [double] in document with id 'QyqiJ5kBifl7WjgxV1aa'. Preview of field's value: ' '\", 'caused_by': {'type': 'number_format_exception', 'reason': 'empty String'}}}}, {'index': {'_index': 'whole_corp', '_id': 'dCqiJ5kBifl7WjgxV1aa', 'status': 400, 'error': {'type': 'document_parsing_exception', 'reason': \"[1:175] failed to parse field [資本額] of type [double] in document with id 'dCqiJ5kBifl7WjgxV1aa'. Preview of field's value: ' '\", 'caused_by': {'type': 'number_format_exception', 'reason': 'empty String'}}}}]\n",
      "==================================errors: ===============================\n",
      "[{'index': {'_index': 'whole_corp', '_id': 'qCqiJ5kBifl7WjgxV1bz', 'status': 400, 'error': {'type': 'document_parsing_exception', 'reason': \"[1:172] failed to parse field [資本額] of type [double] in document with id 'qCqiJ5kBifl7WjgxV1bz'. Preview of field's value: ' '\", 'caused_by': {'type': 'number_format_exception', 'reason': 'empty String'}}}}, {'index': {'_index': 'whole_corp', '_id': 'yCqiJ5kBifl7WjgxV1bz', 'status': 400, 'error': {'type': 'document_parsing_exception', 'reason': \"[1:171] failed to parse field [資本額] of type [double] in document with id 'yCqiJ5kBifl7WjgxV1bz'. Preview of field's value: ' '\", 'caused_by': {'type': 'number_format_exception', 'reason': 'empty String'}}}}, {'index': {'_index': 'whole_corp', '_id': 'CiqiJ5kBifl7WjgxV1fz', 'status': 400, 'error': {'type': 'document_parsing_exception', 'reason': \"[1:171] failed to parse field [資本額] of type [double] in document with id 'CiqiJ5kBifl7WjgxV1fz'. Preview of field's value: ' '\", 'caused_by': {'type': 'number_format_exception', 'reason': 'empty String'}}}}, {'index': {'_index': 'whole_corp', '_id': 'FCqiJ5kBifl7WjgxV1fz', 'status': 400, 'error': {'type': 'document_parsing_exception', 'reason': \"[1:169] failed to parse field [資本額] of type [double] in document with id 'FCqiJ5kBifl7WjgxV1fz'. Preview of field's value: ' '\", 'caused_by': {'type': 'number_format_exception', 'reason': 'empty String'}}}}, {'index': {'_index': 'whole_corp', '_id': 'ISqiJ5kBifl7WjgxV1fz', 'status': 400, 'error': {'type': 'document_parsing_exception', 'reason': \"[1:166] failed to parse field [資本額] of type [double] in document with id 'ISqiJ5kBifl7WjgxV1fz'. Preview of field's value: ' '\", 'caused_by': {'type': 'number_format_exception', 'reason': 'empty String'}}}}, {'index': {'_index': 'whole_corp', '_id': 'SSqiJ5kBifl7WjgxV1fz', 'status': 400, 'error': {'type': 'document_parsing_exception', 'reason': \"[1:179] failed to parse field [資本額] of type [double] in document with id 'SSqiJ5kBifl7WjgxV1fz'. Preview of field's value: ' '\", 'caused_by': {'type': 'number_format_exception', 'reason': 'empty String'}}}}, {'index': {'_index': 'whole_corp', '_id': 'jiqiJ5kBifl7WjgxV1fz', 'status': 400, 'error': {'type': 'document_parsing_exception', 'reason': \"[1:180] failed to parse field [資本額] of type [double] in document with id 'jiqiJ5kBifl7WjgxV1fz'. Preview of field's value: ' '\", 'caused_by': {'type': 'number_format_exception', 'reason': 'empty String'}}}}, {'index': {'_index': 'whole_corp', '_id': 'vSqiJ5kBifl7WjgxV1fz', 'status': 400, 'error': {'type': 'document_parsing_exception', 'reason': \"[1:178] failed to parse field [資本額] of type [double] in document with id 'vSqiJ5kBifl7WjgxV1fz'. Preview of field's value: ' '\", 'caused_by': {'type': 'number_format_exception', 'reason': 'empty String'}}}}, {'index': {'_index': 'whole_corp', '_id': 'QyqiJ5kBifl7WjgxV1jz', 'status': 400, 'error': {'type': 'document_parsing_exception', 'reason': \"[1:160] failed to parse field [資本額] of type [double] in document with id 'QyqiJ5kBifl7WjgxV1jz'. Preview of field's value: ' '\", 'caused_by': {'type': 'number_format_exception', 'reason': 'empty String'}}}}, {'index': {'_index': 'whole_corp', '_id': 'XyqiJ5kBifl7WjgxV1jz', 'status': 400, 'error': {'type': 'document_parsing_exception', 'reason': \"[1:175] failed to parse field [資本額] of type [double] in document with id 'XyqiJ5kBifl7WjgxV1jz'. Preview of field's value: ' '\", 'caused_by': {'type': 'number_format_exception', 'reason': 'empty String'}}}}, {'index': {'_index': 'whole_corp', '_id': 'qiqiJ5kBifl7WjgxWFhV', 'status': 400, 'error': {'type': 'document_parsing_exception', 'reason': \"[1:164] failed to parse field [資本額] of type [double] in document with id 'qiqiJ5kBifl7WjgxWFhV'. Preview of field's value: ' '\", 'caused_by': {'type': 'number_format_exception', 'reason': 'empty String'}}}}, {'index': {'_index': 'whole_corp', '_id': '_iqiJ5kBifl7WjgxWFhV', 'status': 400, 'error': {'type': 'document_parsing_exception', 'reason': \"[1:170] failed to parse field [資本額] of type [double] in document with id '_iqiJ5kBifl7WjgxWFhV'. Preview of field's value: ' '\", 'caused_by': {'type': 'number_format_exception', 'reason': 'empty String'}}}}, {'index': {'_index': 'whole_corp', '_id': 'UCqiJ5kBifl7WjgxWFlV', 'status': 400, 'error': {'type': 'document_parsing_exception', 'reason': \"[1:186] failed to parse field [資本額] of type [double] in document with id 'UCqiJ5kBifl7WjgxWFlV'. Preview of field's value: ' '\", 'caused_by': {'type': 'number_format_exception', 'reason': 'empty String'}}}}, {'index': {'_index': 'whole_corp', '_id': 'WSqiJ5kBifl7WjgxWFlV', 'status': 400, 'error': {'type': 'document_parsing_exception', 'reason': \"[1:174] failed to parse field [資本額] of type [double] in document with id 'WSqiJ5kBifl7WjgxWFlV'. Preview of field's value: ' '\", 'caused_by': {'type': 'number_format_exception', 'reason': 'empty String'}}}}, {'index': {'_index': 'whole_corp', '_id': '7SqiJ5kBifl7WjgxWFlV', 'status': 400, 'error': {'type': 'document_parsing_exception', 'reason': \"[1:181] failed to parse field [資本額] of type [double] in document with id '7SqiJ5kBifl7WjgxWFlV'. Preview of field's value: ' '\", 'caused_by': {'type': 'number_format_exception', 'reason': 'empty String'}}}}, {'index': {'_index': 'whole_corp', '_id': 'BCqiJ5kBifl7WjgxWFpV', 'status': 400, 'error': {'type': 'document_parsing_exception', 'reason': \"[1:174] failed to parse field [資本額] of type [double] in document with id 'BCqiJ5kBifl7WjgxWFpV'. Preview of field's value: ' '\", 'caused_by': {'type': 'number_format_exception', 'reason': 'empty String'}}}}, {'index': {'_index': 'whole_corp', '_id': 'RyqiJ5kBifl7WjgxWFpV', 'status': 400, 'error': {'type': 'document_parsing_exception', 'reason': \"[1:171] failed to parse field [資本額] of type [double] in document with id 'RyqiJ5kBifl7WjgxWFpV'. Preview of field's value: ' '\", 'caused_by': {'type': 'number_format_exception', 'reason': 'empty String'}}}}, {'index': {'_index': 'whole_corp', '_id': 'fiqiJ5kBifl7WjgxWFpV', 'status': 400, 'error': {'type': 'document_parsing_exception', 'reason': \"[1:183] failed to parse field [資本額] of type [double] in document with id 'fiqiJ5kBifl7WjgxWFpV'. Preview of field's value: ' '\", 'caused_by': {'type': 'number_format_exception', 'reason': 'empty String'}}}}]\n",
      "==================================errors: ===============================\n",
      "[{'index': {'_index': 'whole_corp', '_id': 'kCqiJ5kBifl7WjgxWFrc', 'status': 400, 'error': {'type': 'document_parsing_exception', 'reason': \"[1:169] failed to parse field [資本額] of type [double] in document with id 'kCqiJ5kBifl7WjgxWFrc'. Preview of field's value: ' '\", 'caused_by': {'type': 'number_format_exception', 'reason': 'empty String'}}}}, {'index': {'_index': 'whole_corp', '_id': 'rCqiJ5kBifl7WjgxWFrc', 'status': 400, 'error': {'type': 'document_parsing_exception', 'reason': \"[1:177] failed to parse field [資本額] of type [double] in document with id 'rCqiJ5kBifl7WjgxWFrc'. Preview of field's value: ' '\", 'caused_by': {'type': 'number_format_exception', 'reason': 'empty String'}}}}, {'index': {'_index': 'whole_corp', '_id': 'AiqiJ5kBifl7WjgxWFvc', 'status': 400, 'error': {'type': 'document_parsing_exception', 'reason': \"[1:179] failed to parse field [資本額] of type [double] in document with id 'AiqiJ5kBifl7WjgxWFvc'. Preview of field's value: ' '\", 'caused_by': {'type': 'number_format_exception', 'reason': 'empty String'}}}}, {'index': {'_index': 'whole_corp', '_id': 'DSqiJ5kBifl7WjgxWFvc', 'status': 400, 'error': {'type': 'document_parsing_exception', 'reason': \"[1:185] failed to parse field [資本額] of type [double] in document with id 'DSqiJ5kBifl7WjgxWFvc'. Preview of field's value: ' '\", 'caused_by': {'type': 'number_format_exception', 'reason': 'empty String'}}}}, {'index': {'_index': 'whole_corp', '_id': 'GyqiJ5kBifl7WjgxWFvc', 'status': 400, 'error': {'type': 'document_parsing_exception', 'reason': \"[1:176] failed to parse field [資本額] of type [double] in document with id 'GyqiJ5kBifl7WjgxWFvc'. Preview of field's value: ' '\", 'caused_by': {'type': 'number_format_exception', 'reason': 'empty String'}}}}, {'index': {'_index': 'whole_corp', '_id': 'SSqiJ5kBifl7WjgxWFvc', 'status': 400, 'error': {'type': 'document_parsing_exception', 'reason': \"[1:185] failed to parse field [資本額] of type [double] in document with id 'SSqiJ5kBifl7WjgxWFvc'. Preview of field's value: ' '\", 'caused_by': {'type': 'number_format_exception', 'reason': 'empty String'}}}}, {'index': {'_index': 'whole_corp', '_id': 'TSqiJ5kBifl7WjgxWFvc', 'status': 400, 'error': {'type': 'document_parsing_exception', 'reason': \"[1:165] failed to parse field [資本額] of type [double] in document with id 'TSqiJ5kBifl7WjgxWFvc'. Preview of field's value: ' '\", 'caused_by': {'type': 'number_format_exception', 'reason': 'empty String'}}}}, {'index': {'_index': 'whole_corp', '_id': 'ZCqiJ5kBifl7WjgxWFvc', 'status': 400, 'error': {'type': 'document_parsing_exception', 'reason': \"[1:177] failed to parse field [資本額] of type [double] in document with id 'ZCqiJ5kBifl7WjgxWFvc'. Preview of field's value: ' '\", 'caused_by': {'type': 'number_format_exception', 'reason': 'empty String'}}}}, {'index': {'_index': 'whole_corp', '_id': 'dCqiJ5kBifl7WjgxWFvc', 'status': 400, 'error': {'type': 'document_parsing_exception', 'reason': \"[1:188] failed to parse field [資本額] of type [double] in document with id 'dCqiJ5kBifl7WjgxWFvc'. Preview of field's value: ' '\", 'caused_by': {'type': 'number_format_exception', 'reason': 'empty String'}}}}, {'index': {'_index': 'whole_corp', '_id': 'liqiJ5kBifl7WjgxWFvc', 'status': 400, 'error': {'type': 'document_parsing_exception', 'reason': \"[1:172] failed to parse field [資本額] of type [double] in document with id 'liqiJ5kBifl7WjgxWFvc'. Preview of field's value: ' '\", 'caused_by': {'type': 'number_format_exception', 'reason': 'empty String'}}}}, {'index': {'_index': 'whole_corp', '_id': 'pSqiJ5kBifl7WjgxWFvc', 'status': 400, 'error': {'type': 'document_parsing_exception', 'reason': \"[1:170] failed to parse field [資本額] of type [double] in document with id 'pSqiJ5kBifl7WjgxWFvc'. Preview of field's value: ' '\", 'caused_by': {'type': 'number_format_exception', 'reason': 'empty String'}}}}, {'index': {'_index': 'whole_corp', '_id': '-CqiJ5kBifl7WjgxWFvc', 'status': 400, 'error': {'type': 'document_parsing_exception', 'reason': \"[1:167] failed to parse field [資本額] of type [double] in document with id '-CqiJ5kBifl7WjgxWFvc'. Preview of field's value: ' '\", 'caused_by': {'type': 'number_format_exception', 'reason': 'empty String'}}}}, {'index': {'_index': 'whole_corp', '_id': 'aSqiJ5kBifl7WjgxWFzc', 'status': 400, 'error': {'type': 'document_parsing_exception', 'reason': \"[1:168] failed to parse field [資本額] of type [double] in document with id 'aSqiJ5kBifl7WjgxWFzc'. Preview of field's value: ' '\", 'caused_by': {'type': 'number_format_exception', 'reason': 'empty String'}}}}, {'index': {'_index': 'whole_corp', '_id': 'diqiJ5kBifl7WjgxWFzc', 'status': 400, 'error': {'type': 'document_parsing_exception', 'reason': \"[1:180] failed to parse field [資本額] of type [double] in document with id 'diqiJ5kBifl7WjgxWFzc'. Preview of field's value: ' '\", 'caused_by': {'type': 'number_format_exception', 'reason': 'empty String'}}}}, {'index': {'_index': 'whole_corp', '_id': 'miqiJ5kBifl7WjgxWVxU', 'status': 400, 'error': {'type': 'document_parsing_exception', 'reason': \"[1:172] failed to parse field [資本額] of type [double] in document with id 'miqiJ5kBifl7WjgxWVxU'. Preview of field's value: ' '\", 'caused_by': {'type': 'number_format_exception', 'reason': 'empty String'}}}}, {'index': {'_index': 'whole_corp', '_id': 'uSqiJ5kBifl7WjgxWVxU', 'status': 400, 'error': {'type': 'document_parsing_exception', 'reason': \"[1:180] failed to parse field [資本額] of type [double] in document with id 'uSqiJ5kBifl7WjgxWVxU'. Preview of field's value: ' '\", 'caused_by': {'type': 'number_format_exception', 'reason': 'empty String'}}}}, {'index': {'_index': 'whole_corp', '_id': 'uyqiJ5kBifl7WjgxWVxU', 'status': 400, 'error': {'type': 'document_parsing_exception', 'reason': \"[1:181] failed to parse field [資本額] of type [double] in document with id 'uyqiJ5kBifl7WjgxWVxU'. Preview of field's value: ' '\", 'caused_by': {'type': 'number_format_exception', 'reason': 'empty String'}}}}, {'index': {'_index': 'whole_corp', '_id': 'QyqiJ5kBifl7WjgxWV1V', 'status': 400, 'error': {'type': 'document_parsing_exception', 'reason': \"[1:175] failed to parse field [資本額] of type [double] in document with id 'QyqiJ5kBifl7WjgxWV1V'. Preview of field's value: ' '\", 'caused_by': {'type': 'number_format_exception', 'reason': 'empty String'}}}}, {'index': {'_index': 'whole_corp', '_id': 'TSqiJ5kBifl7WjgxWV1V', 'status': 400, 'error': {'type': 'document_parsing_exception', 'reason': \"[1:174] failed to parse field [資本額] of type [double] in document with id 'TSqiJ5kBifl7WjgxWV1V'. Preview of field's value: ' '\", 'caused_by': {'type': 'number_format_exception', 'reason': 'empty String'}}}}, {'index': {'_index': 'whole_corp', '_id': 'fyqiJ5kBifl7WjgxWV1V', 'status': 400, 'error': {'type': 'document_parsing_exception', 'reason': \"[1:177] failed to parse field [資本額] of type [double] in document with id 'fyqiJ5kBifl7WjgxWV1V'. Preview of field's value: ' '\", 'caused_by': {'type': 'number_format_exception', 'reason': 'empty String'}}}}, {'index': {'_index': 'whole_corp', '_id': 'kCqiJ5kBifl7WjgxWV1V', 'status': 400, 'error': {'type': 'document_parsing_exception', 'reason': \"[1:168] failed to parse field [資本額] of type [double] in document with id 'kCqiJ5kBifl7WjgxWV1V'. Preview of field's value: ' '\", 'caused_by': {'type': 'number_format_exception', 'reason': 'empty String'}}}}, {'index': {'_index': 'whole_corp', '_id': 'qiqiJ5kBifl7WjgxWV1V', 'status': 400, 'error': {'type': 'document_parsing_exception', 'reason': \"[1:187] failed to parse field [資本額] of type [double] in document with id 'qiqiJ5kBifl7WjgxWV1V'. Preview of field's value: ' '\", 'caused_by': {'type': 'number_format_exception', 'reason': 'empty String'}}}}, {'index': {'_index': 'whole_corp', '_id': 'ySqiJ5kBifl7WjgxWV1V', 'status': 400, 'error': {'type': 'document_parsing_exception', 'reason': \"[1:175] failed to parse field [資本額] of type [double] in document with id 'ySqiJ5kBifl7WjgxWV1V'. Preview of field's value: ' '\", 'caused_by': {'type': 'number_format_exception', 'reason': 'empty String'}}}}, {'index': {'_index': 'whole_corp', '_id': '2yqiJ5kBifl7WjgxWV1V', 'status': 400, 'error': {'type': 'document_parsing_exception', 'reason': \"[1:180] failed to parse field [資本額] of type [double] in document with id '2yqiJ5kBifl7WjgxWV1V'. Preview of field's value: ' '\", 'caused_by': {'type': 'number_format_exception', 'reason': 'empty String'}}}}, {'index': {'_index': 'whole_corp', '_id': '7iqiJ5kBifl7WjgxWV1V', 'status': 400, 'error': {'type': 'document_parsing_exception', 'reason': \"[1:178] failed to parse field [資本額] of type [double] in document with id '7iqiJ5kBifl7WjgxWV1V'. Preview of field's value: ' '\", 'caused_by': {'type': 'number_format_exception', 'reason': 'empty String'}}}}, {'index': {'_index': 'whole_corp', '_id': 'JSqiJ5kBifl7WjgxWV5V', 'status': 400, 'error': {'type': 'document_parsing_exception', 'reason': \"[1:165] failed to parse field [資本額] of type [double] in document with id 'JSqiJ5kBifl7WjgxWV5V'. Preview of field's value: ' '\", 'caused_by': {'type': 'number_format_exception', 'reason': 'empty String'}}}}, {'index': {'_index': 'whole_corp', '_id': 'NyqiJ5kBifl7WjgxWV5V', 'status': 400, 'error': {'type': 'document_parsing_exception', 'reason': \"[1:162] failed to parse field [資本額] of type [double] in document with id 'NyqiJ5kBifl7WjgxWV5V'. Preview of field's value: ' '\", 'caused_by': {'type': 'number_format_exception', 'reason': 'empty String'}}}}, {'index': {'_index': 'whole_corp', '_id': 'SCqiJ5kBifl7WjgxWV5V', 'status': 400, 'error': {'type': 'document_parsing_exception', 'reason': \"[1:173] failed to parse field [資本額] of type [double] in document with id 'SCqiJ5kBifl7WjgxWV5V'. Preview of field's value: ' '\", 'caused_by': {'type': 'number_format_exception', 'reason': 'empty String'}}}}]\n",
      "==================================errors: ===============================\n",
      "[{'index': {'_index': 'whole_corp', '_id': '7SqiJ5kBifl7WjgxWl6Q', 'status': 400, 'error': {'type': 'document_parsing_exception', 'reason': \"[1:170] failed to parse field [資本額] of type [double] in document with id '7SqiJ5kBifl7WjgxWl6Q'. Preview of field's value: ' '\", 'caused_by': {'type': 'number_format_exception', 'reason': 'empty String'}}}}, {'index': {'_index': 'whole_corp', '_id': '7iqiJ5kBifl7WjgxWl6Q', 'status': 400, 'error': {'type': 'document_parsing_exception', 'reason': \"[1:178] failed to parse field [資本額] of type [double] in document with id '7iqiJ5kBifl7WjgxWl6Q'. Preview of field's value: ' '\", 'caused_by': {'type': 'number_format_exception', 'reason': 'empty String'}}}}, {'index': {'_index': 'whole_corp', '_id': 'LyqiJ5kBifl7WjgxWl-Q', 'status': 400, 'error': {'type': 'document_parsing_exception', 'reason': \"[1:171] failed to parse field [資本額] of type [double] in document with id 'LyqiJ5kBifl7WjgxWl-Q'. Preview of field's value: ' '\", 'caused_by': {'type': 'number_format_exception', 'reason': 'empty String'}}}}, {'index': {'_index': 'whole_corp', '_id': 'RiqiJ5kBifl7WjgxWl-Q', 'status': 400, 'error': {'type': 'document_parsing_exception', 'reason': \"[1:174] failed to parse field [資本額] of type [double] in document with id 'RiqiJ5kBifl7WjgxWl-Q'. Preview of field's value: ' '\", 'caused_by': {'type': 'number_format_exception', 'reason': 'empty String'}}}}, {'index': {'_index': 'whole_corp', '_id': 'eyqiJ5kBifl7WjgxWl-Q', 'status': 400, 'error': {'type': 'document_parsing_exception', 'reason': \"[1:182] failed to parse field [資本額] of type [double] in document with id 'eyqiJ5kBifl7WjgxWl-Q'. Preview of field's value: ' '\", 'caused_by': {'type': 'number_format_exception', 'reason': 'empty String'}}}}, {'index': {'_index': 'whole_corp', '_id': 'wiqiJ5kBifl7WjgxWl-Q', 'status': 400, 'error': {'type': 'document_parsing_exception', 'reason': \"[1:169] failed to parse field [資本額] of type [double] in document with id 'wiqiJ5kBifl7WjgxWl-Q'. Preview of field's value: ' '\", 'caused_by': {'type': 'number_format_exception', 'reason': 'empty String'}}}}, {'index': {'_index': 'whole_corp', '_id': 'SSqiJ5kBifl7WjgxWmCQ', 'status': 400, 'error': {'type': 'document_parsing_exception', 'reason': \"[1:164] failed to parse field [資本額] of type [double] in document with id 'SSqiJ5kBifl7WjgxWmCQ'. Preview of field's value: ' '\", 'caused_by': {'type': 'number_format_exception', 'reason': 'empty String'}}}}, {'index': {'_index': 'whole_corp', '_id': 'XiqiJ5kBifl7WjgxWmCQ', 'status': 400, 'error': {'type': 'document_parsing_exception', 'reason': \"[1:176] failed to parse field [資本額] of type [double] in document with id 'XiqiJ5kBifl7WjgxWmCQ'. Preview of field's value: ' '\", 'caused_by': {'type': 'number_format_exception', 'reason': 'empty String'}}}}, {'index': {'_index': 'whole_corp', '_id': 'jCqiJ5kBifl7WjgxW2B8', 'status': 400, 'error': {'type': 'document_parsing_exception', 'reason': \"[1:179] failed to parse field [資本額] of type [double] in document with id 'jCqiJ5kBifl7WjgxW2B8'. Preview of field's value: ' '\", 'caused_by': {'type': 'number_format_exception', 'reason': 'empty String'}}}}, {'index': {'_index': 'whole_corp', '_id': 'sSqiJ5kBifl7WjgxW2B8', 'status': 400, 'error': {'type': 'document_parsing_exception', 'reason': \"[1:171] failed to parse field [資本額] of type [double] in document with id 'sSqiJ5kBifl7WjgxW2B8'. Preview of field's value: ' '\", 'caused_by': {'type': 'number_format_exception', 'reason': 'empty String'}}}}, {'index': {'_index': 'whole_corp', '_id': 'vCqiJ5kBifl7WjgxW2B8', 'status': 400, 'error': {'type': 'document_parsing_exception', 'reason': \"[1:168] failed to parse field [資本額] of type [double] in document with id 'vCqiJ5kBifl7WjgxW2B8'. Preview of field's value: ' '\", 'caused_by': {'type': 'number_format_exception', 'reason': 'empty String'}}}}, {'index': {'_index': 'whole_corp', '_id': 'IiqiJ5kBifl7WjgxW2J9', 'status': 400, 'error': {'type': 'document_parsing_exception', 'reason': \"[1:178] failed to parse field [資本額] of type [double] in document with id 'IiqiJ5kBifl7WjgxW2J9'. Preview of field's value: ' '\", 'caused_by': {'type': 'number_format_exception', 'reason': 'empty String'}}}}]\n",
      "==================================errors: ===============================\n",
      "[{'index': {'_index': 'whole_corp', '_id': 'aiqiJ5kBifl7WjgxXGaK', 'status': 400, 'error': {'type': 'document_parsing_exception', 'reason': \"[1:171] failed to parse field [資本額] of type [double] in document with id 'aiqiJ5kBifl7WjgxXGaK'. Preview of field's value: ' '\", 'caused_by': {'type': 'number_format_exception', 'reason': 'empty String'}}}}, {'index': {'_index': 'whole_corp', '_id': 'EiqiJ5kBifl7WjgxXGeK', 'status': 400, 'error': {'type': 'document_parsing_exception', 'reason': \"[1:183] failed to parse field [資本額] of type [double] in document with id 'EiqiJ5kBifl7WjgxXGeK'. Preview of field's value: ' '\", 'caused_by': {'type': 'number_format_exception', 'reason': 'empty String'}}}}, {'index': {'_index': 'whole_corp', '_id': 'jSqiJ5kBifl7WjgxXGeL', 'status': 400, 'error': {'type': 'document_parsing_exception', 'reason': \"[1:173] failed to parse field [資本額] of type [double] in document with id 'jSqiJ5kBifl7WjgxXGeL'. Preview of field's value: ' '\", 'caused_by': {'type': 'number_format_exception', 'reason': 'empty String'}}}}]\n",
      "==================================errors: ===============================\n",
      "[{'index': {'_index': 'whole_corp', '_id': 'niqiJ5kBifl7WjgxXWuJ', 'status': 400, 'error': {'type': 'document_parsing_exception', 'reason': \"[1:171] failed to parse field [資本額] of type [double] in document with id 'niqiJ5kBifl7WjgxXWuJ'. Preview of field's value: ' '\", 'caused_by': {'type': 'number_format_exception', 'reason': 'empty String'}}}}]\n",
      "==================================errors: ===============================\n",
      "[{'index': {'_index': 'whole_corp', '_id': 'LSqiJ5kBifl7WjgxX3Rt', 'status': 400, 'error': {'type': 'document_parsing_exception', 'reason': \"[1:169] failed to parse field [資本額] of type [double] in document with id 'LSqiJ5kBifl7WjgxX3Rt'. Preview of field's value: ' '\", 'caused_by': {'type': 'number_format_exception', 'reason': 'empty String'}}}}, {'index': {'_index': 'whole_corp', '_id': 'ViqiJ5kBifl7WjgxX3Rt', 'status': 400, 'error': {'type': 'document_parsing_exception', 'reason': \"[1:184] failed to parse field [資本額] of type [double] in document with id 'ViqiJ5kBifl7WjgxX3Rt'. Preview of field's value: ' '\", 'caused_by': {'type': 'number_format_exception', 'reason': 'empty String'}}}}, {'index': {'_index': 'whole_corp', '_id': '0yqiJ5kBifl7WjgxX3Rt', 'status': 400, 'error': {'type': 'document_parsing_exception', 'reason': \"[1:175] failed to parse field [資本額] of type [double] in document with id '0yqiJ5kBifl7WjgxX3Rt'. Preview of field's value: ' '\", 'caused_by': {'type': 'number_format_exception', 'reason': 'empty String'}}}}]\n",
      "==================================errors: ===============================\n",
      "[{'index': {'_index': 'whole_corp', '_id': 'wCqiJ5kBifl7WjgxYHeZ', 'status': 400, 'error': {'type': 'document_parsing_exception', 'reason': \"[1:167] failed to parse field [資本額] of type [double] in document with id 'wCqiJ5kBifl7WjgxYHeZ'. Preview of field's value: 'None'\", 'caused_by': {'type': 'number_format_exception', 'reason': 'For input string: \"None\"'}}}}]\n",
      "==================================errors: ===============================\n",
      "[{'index': {'_index': 'whole_corp', '_id': 'qiqiJ5kBifl7WjgxYn0b', 'status': 400, 'error': {'type': 'document_parsing_exception', 'reason': \"[1:160] failed to parse field [資本額] of type [double] in document with id 'qiqiJ5kBifl7WjgxYn0b'. Preview of field's value: ' '\", 'caused_by': {'type': 'number_format_exception', 'reason': 'empty String'}}}}]\n",
      "==================================errors: ===============================\n",
      "[{'index': {'_index': 'whole_corp', '_id': 'wSqiJ5kBifl7WjgxYn1_', 'status': 400, 'error': {'type': 'document_parsing_exception', 'reason': \"[1:178] failed to parse field [資本額] of type [double] in document with id 'wSqiJ5kBifl7WjgxYn1_'. Preview of field's value: ' '\", 'caused_by': {'type': 'number_format_exception', 'reason': 'empty String'}}}}, {'index': {'_index': 'whole_corp', '_id': 'WCqiJ5kBifl7WjgxYn5_', 'status': 400, 'error': {'type': 'document_parsing_exception', 'reason': \"[1:201] failed to parse field [資本額] of type [double] in document with id 'WCqiJ5kBifl7WjgxYn5_'. Preview of field's value: ' '\", 'caused_by': {'type': 'number_format_exception', 'reason': 'empty String'}}}}]\n",
      "==================================errors: ===============================\n",
      "[{'index': {'_index': 'whole_corp', '_id': 'BCqiJ5kBifl7WjgxY4TG', 'status': 400, 'error': {'type': 'document_parsing_exception', 'reason': \"[1:181] failed to parse field [資本額] of type [double] in document with id 'BCqiJ5kBifl7WjgxY4TG'. Preview of field's value: ' '\", 'caused_by': {'type': 'number_format_exception', 'reason': 'empty String'}}}}]\n",
      "==================================errors: ===============================\n",
      "[{'index': {'_index': 'whole_corp', '_id': 'xCqiJ5kBifl7WjgxZYtP', 'status': 400, 'error': {'type': 'document_parsing_exception', 'reason': \"[1:179] failed to parse field [資本額] of type [double] in document with id 'xCqiJ5kBifl7WjgxZYtP'. Preview of field's value: ' '\", 'caused_by': {'type': 'number_format_exception', 'reason': 'empty String'}}}}, {'index': {'_index': 'whole_corp', '_id': 'xiqiJ5kBifl7WjgxZYtP', 'status': 400, 'error': {'type': 'document_parsing_exception', 'reason': \"[1:174] failed to parse field [資本額] of type [double] in document with id 'xiqiJ5kBifl7WjgxZYtP'. Preview of field's value: ' '\", 'caused_by': {'type': 'number_format_exception', 'reason': 'empty String'}}}}, {'index': {'_index': 'whole_corp', '_id': '5CqiJ5kBifl7WjgxZYtP', 'status': 400, 'error': {'type': 'document_parsing_exception', 'reason': \"[1:168] failed to parse field [資本額] of type [double] in document with id '5CqiJ5kBifl7WjgxZYtP'. Preview of field's value: ' '\", 'caused_by': {'type': 'number_format_exception', 'reason': 'empty String'}}}}, {'index': {'_index': 'whole_corp', '_id': 'OiqiJ5kBifl7WjgxZYxP', 'status': 400, 'error': {'type': 'document_parsing_exception', 'reason': \"[1:171] failed to parse field [資本額] of type [double] in document with id 'OiqiJ5kBifl7WjgxZYxP'. Preview of field's value: ' '\", 'caused_by': {'type': 'number_format_exception', 'reason': 'empty String'}}}}, {'index': {'_index': 'whole_corp', '_id': 'QyqiJ5kBifl7WjgxZYxP', 'status': 400, 'error': {'type': 'document_parsing_exception', 'reason': \"[1:188] failed to parse field [資本額] of type [double] in document with id 'QyqiJ5kBifl7WjgxZYxP'. Preview of field's value: ' '\", 'caused_by': {'type': 'number_format_exception', 'reason': 'empty String'}}}}, {'index': {'_index': 'whole_corp', '_id': 'YiqiJ5kBifl7WjgxZYxP', 'status': 400, 'error': {'type': 'document_parsing_exception', 'reason': \"[1:175] failed to parse field [資本額] of type [double] in document with id 'YiqiJ5kBifl7WjgxZYxP'. Preview of field's value: ' '\", 'caused_by': {'type': 'number_format_exception', 'reason': 'empty String'}}}}, {'index': {'_index': 'whole_corp', '_id': 'wyqiJ5kBifl7WjgxZYxQ', 'status': 400, 'error': {'type': 'document_parsing_exception', 'reason': \"[1:174] failed to parse field [資本額] of type [double] in document with id 'wyqiJ5kBifl7WjgxZYxQ'. Preview of field's value: ' '\", 'caused_by': {'type': 'number_format_exception', 'reason': 'empty String'}}}}, {'index': {'_index': 'whole_corp', '_id': '0iqiJ5kBifl7WjgxZYxQ', 'status': 400, 'error': {'type': 'document_parsing_exception', 'reason': \"[1:174] failed to parse field [資本額] of type [double] in document with id '0iqiJ5kBifl7WjgxZYxQ'. Preview of field's value: ' '\", 'caused_by': {'type': 'number_format_exception', 'reason': 'empty String'}}}}, {'index': {'_index': 'whole_corp', '_id': 'HCqiJ5kBifl7WjgxZY1Q', 'status': 400, 'error': {'type': 'document_parsing_exception', 'reason': \"[1:166] failed to parse field [資本額] of type [double] in document with id 'HCqiJ5kBifl7WjgxZY1Q'. Preview of field's value: ' '\", 'caused_by': {'type': 'number_format_exception', 'reason': 'empty String'}}}}]\n",
      "==================================errors: ===============================\n",
      "[{'index': {'_index': 'whole_corp', '_id': 'gSqiJ5kBifl7WjgxZY2h', 'status': 400, 'error': {'type': 'document_parsing_exception', 'reason': \"[1:178] failed to parse field [資本額] of type [double] in document with id 'gSqiJ5kBifl7WjgxZY2h'. Preview of field's value: ' '\", 'caused_by': {'type': 'number_format_exception', 'reason': 'empty String'}}}}, {'index': {'_index': 'whole_corp', '_id': 'tyqiJ5kBifl7WjgxZY2h', 'status': 400, 'error': {'type': 'document_parsing_exception', 'reason': \"[1:167] failed to parse field [資本額] of type [double] in document with id 'tyqiJ5kBifl7WjgxZY2h'. Preview of field's value: ' '\", 'caused_by': {'type': 'number_format_exception', 'reason': 'empty String'}}}}, {'index': {'_index': 'whole_corp', '_id': '6SqiJ5kBifl7WjgxZY2h', 'status': 400, 'error': {'type': 'document_parsing_exception', 'reason': \"[1:169] failed to parse field [資本額] of type [double] in document with id '6SqiJ5kBifl7WjgxZY2h'. Preview of field's value: ' '\", 'caused_by': {'type': 'number_format_exception', 'reason': 'empty String'}}}}]\n",
      "==================================errors: ===============================\n",
      "[{'index': {'_index': 'whole_corp', '_id': 'CyqiJ5kBifl7WjgxZpNN', 'status': 400, 'error': {'type': 'document_parsing_exception', 'reason': \"[1:185] failed to parse field [資本額] of type [double] in document with id 'CyqiJ5kBifl7WjgxZpNN'. Preview of field's value: ' '\", 'caused_by': {'type': 'number_format_exception', 'reason': 'empty String'}}}}, {'index': {'_index': 'whole_corp', '_id': 'EyqiJ5kBifl7WjgxZpNN', 'status': 400, 'error': {'type': 'document_parsing_exception', 'reason': \"[1:183] failed to parse field [資本額] of type [double] in document with id 'EyqiJ5kBifl7WjgxZpNN'. Preview of field's value: ' '\", 'caused_by': {'type': 'number_format_exception', 'reason': 'empty String'}}}}, {'index': {'_index': 'whole_corp', '_id': 'uSqiJ5kBifl7WjgxZpOr', 'status': 400, 'error': {'type': 'document_parsing_exception', 'reason': \"[1:172] failed to parse field [資本額] of type [double] in document with id 'uSqiJ5kBifl7WjgxZpOr'. Preview of field's value: ' '\", 'caused_by': {'type': 'number_format_exception', 'reason': 'empty String'}}}}, {'index': {'_index': 'whole_corp', '_id': '3yqiJ5kBifl7WjgxZpOr', 'status': 400, 'error': {'type': 'document_parsing_exception', 'reason': \"[1:181] failed to parse field [資本額] of type [double] in document with id '3yqiJ5kBifl7WjgxZpOr'. Preview of field's value: ' '\", 'caused_by': {'type': 'number_format_exception', 'reason': 'empty String'}}}}]\n",
      "==================================errors: ===============================\n",
      "[{'index': {'_index': 'whole_corp', '_id': 'lyqiJ5kBifl7WjgxZ5h0', 'status': 400, 'error': {'type': 'document_parsing_exception', 'reason': \"[1:172] failed to parse field [資本額] of type [double] in document with id 'lyqiJ5kBifl7WjgxZ5h0'. Preview of field's value: ' '\", 'caused_by': {'type': 'number_format_exception', 'reason': 'empty String'}}}}, {'index': {'_index': 'whole_corp', '_id': 'BiqiJ5kBifl7WjgxZ5l0', 'status': 400, 'error': {'type': 'document_parsing_exception', 'reason': \"[1:170] failed to parse field [資本額] of type [double] in document with id 'BiqiJ5kBifl7WjgxZ5l0'. Preview of field's value: ' '\", 'caused_by': {'type': 'number_format_exception', 'reason': 'empty String'}}}}]\n",
      "==================================errors: ===============================\n",
      "[{'index': {'_index': 'whole_corp', '_id': 'PyqiJ5kBifl7WjgxaJlK', 'status': 400, 'error': {'type': 'document_parsing_exception', 'reason': \"[1:175] failed to parse field [資本額] of type [double] in document with id 'PyqiJ5kBifl7WjgxaJlK'. Preview of field's value: ' '\", 'caused_by': {'type': 'number_format_exception', 'reason': 'empty String'}}}}, {'index': {'_index': 'whole_corp', '_id': 'aiqiJ5kBifl7WjgxaJlK', 'status': 400, 'error': {'type': 'document_parsing_exception', 'reason': \"[1:174] failed to parse field [資本額] of type [double] in document with id 'aiqiJ5kBifl7WjgxaJlK'. Preview of field's value: ' '\", 'caused_by': {'type': 'number_format_exception', 'reason': 'empty String'}}}}, {'index': {'_index': 'whole_corp', '_id': 'nSqiJ5kBifl7WjgxaJlK', 'status': 400, 'error': {'type': 'document_parsing_exception', 'reason': \"[1:162] failed to parse field [資本額] of type [double] in document with id 'nSqiJ5kBifl7WjgxaJlK'. Preview of field's value: ' '\", 'caused_by': {'type': 'number_format_exception', 'reason': 'empty String'}}}}, {'index': {'_index': 'whole_corp', '_id': 'uCqiJ5kBifl7WjgxaJpK', 'status': 400, 'error': {'type': 'document_parsing_exception', 'reason': \"[1:185] failed to parse field [資本額] of type [double] in document with id 'uCqiJ5kBifl7WjgxaJpK'. Preview of field's value: ' '\", 'caused_by': {'type': 'number_format_exception', 'reason': 'empty String'}}}}, {'index': {'_index': 'whole_corp', '_id': 'wiqiJ5kBifl7WjgxaJpK', 'status': 400, 'error': {'type': 'document_parsing_exception', 'reason': \"[1:175] failed to parse field [資本額] of type [double] in document with id 'wiqiJ5kBifl7WjgxaJpK'. Preview of field's value: ' '\", 'caused_by': {'type': 'number_format_exception', 'reason': 'empty String'}}}}, {'index': {'_index': 'whole_corp', '_id': '0yqiJ5kBifl7WjgxaJpK', 'status': 400, 'error': {'type': 'document_parsing_exception', 'reason': \"[1:174] failed to parse field [資本額] of type [double] in document with id '0yqiJ5kBifl7WjgxaJpK'. Preview of field's value: ' '\", 'caused_by': {'type': 'number_format_exception', 'reason': 'empty String'}}}}, {'index': {'_index': 'whole_corp', '_id': 'GCqiJ5kBifl7WjgxaZsF', 'status': 400, 'error': {'type': 'document_parsing_exception', 'reason': \"[1:178] failed to parse field [資本額] of type [double] in document with id 'GCqiJ5kBifl7WjgxaZsF'. Preview of field's value: ' '\", 'caused_by': {'type': 'number_format_exception', 'reason': 'empty String'}}}}, {'index': {'_index': 'whole_corp', '_id': 'GyqiJ5kBifl7WjgxaZsF', 'status': 400, 'error': {'type': 'document_parsing_exception', 'reason': \"[1:172] failed to parse field [資本額] of type [double] in document with id 'GyqiJ5kBifl7WjgxaZsF'. Preview of field's value: ' '\", 'caused_by': {'type': 'number_format_exception', 'reason': 'empty String'}}}}, {'index': {'_index': 'whole_corp', '_id': 'VSqiJ5kBifl7WjgxaZwF', 'status': 400, 'error': {'type': 'document_parsing_exception', 'reason': \"[1:175] failed to parse field [資本額] of type [double] in document with id 'VSqiJ5kBifl7WjgxaZwF'. Preview of field's value: ' '\", 'caused_by': {'type': 'number_format_exception', 'reason': 'empty String'}}}}]\n",
      "==================================errors: ===============================\n",
      "[{'index': {'_index': 'whole_corp', '_id': 'CCqiJ5kBifl7WjgxaZ27', 'status': 400, 'error': {'type': 'document_parsing_exception', 'reason': \"[1:174] failed to parse field [資本額] of type [double] in document with id 'CCqiJ5kBifl7WjgxaZ27'. Preview of field's value: ' '\", 'caused_by': {'type': 'number_format_exception', 'reason': 'empty String'}}}}, {'index': {'_index': 'whole_corp', '_id': '8iqiJ5kBifl7WjgxaZ27', 'status': 400, 'error': {'type': 'document_parsing_exception', 'reason': \"[1:171] failed to parse field [資本額] of type [double] in document with id '8iqiJ5kBifl7WjgxaZ27'. Preview of field's value: ' '\", 'caused_by': {'type': 'number_format_exception', 'reason': 'empty String'}}}}, {'index': {'_index': 'whole_corp', '_id': 'kSqiJ5kBifl7WjgxaZ67', 'status': 400, 'error': {'type': 'document_parsing_exception', 'reason': \"[1:181] failed to parse field [資本額] of type [double] in document with id 'kSqiJ5kBifl7WjgxaZ67'. Preview of field's value: ' '\", 'caused_by': {'type': 'number_format_exception', 'reason': 'empty String'}}}}, {'index': {'_index': 'whole_corp', '_id': 'kyqiJ5kBifl7WjgxaZ67', 'status': 400, 'error': {'type': 'document_parsing_exception', 'reason': \"[1:190] failed to parse field [資本額] of type [double] in document with id 'kyqiJ5kBifl7WjgxaZ67'. Preview of field's value: ' '\", 'caused_by': {'type': 'number_format_exception', 'reason': 'empty String'}}}}, {'index': {'_index': 'whole_corp', '_id': 'pSqiJ5kBifl7WjgxaZ67', 'status': 400, 'error': {'type': 'document_parsing_exception', 'reason': \"[1:178] failed to parse field [資本額] of type [double] in document with id 'pSqiJ5kBifl7WjgxaZ67'. Preview of field's value: ' '\", 'caused_by': {'type': 'number_format_exception', 'reason': 'empty String'}}}}, {'index': {'_index': 'whole_corp', '_id': 'VCqiJ5kBifl7Wjgxap9D', 'status': 400, 'error': {'type': 'document_parsing_exception', 'reason': \"[1:164] failed to parse field [資本額] of type [double] in document with id 'VCqiJ5kBifl7Wjgxap9D'. Preview of field's value: ' '\", 'caused_by': {'type': 'number_format_exception', 'reason': 'empty String'}}}}, {'index': {'_index': 'whole_corp', '_id': 'fiqiJ5kBifl7Wjgxap9D', 'status': 400, 'error': {'type': 'document_parsing_exception', 'reason': \"[1:174] failed to parse field [資本額] of type [double] in document with id 'fiqiJ5kBifl7Wjgxap9D'. Preview of field's value: ' '\", 'caused_by': {'type': 'number_format_exception', 'reason': 'empty String'}}}}, {'index': {'_index': 'whole_corp', '_id': 'wSqiJ5kBifl7WjgxaqBD', 'status': 400, 'error': {'type': 'document_parsing_exception', 'reason': \"[1:181] failed to parse field [資本額] of type [double] in document with id 'wSqiJ5kBifl7WjgxaqBD'. Preview of field's value: ' '\", 'caused_by': {'type': 'number_format_exception', 'reason': 'empty String'}}}}]\n",
      "==================================errors: ===============================\n",
      "[{'index': {'_index': 'whole_corp', '_id': 'VyqiJ5kBifl7WjgxaqGx', 'status': 400, 'error': {'type': 'document_parsing_exception', 'reason': \"[1:163] failed to parse field [資本額] of type [double] in document with id 'VyqiJ5kBifl7WjgxaqGx'. Preview of field's value: ' '\", 'caused_by': {'type': 'number_format_exception', 'reason': 'empty String'}}}}, {'index': {'_index': 'whole_corp', '_id': 'ICqiJ5kBifl7WjgxaqKx', 'status': 400, 'error': {'type': 'document_parsing_exception', 'reason': \"[1:173] failed to parse field [資本額] of type [double] in document with id 'ICqiJ5kBifl7WjgxaqKx'. Preview of field's value: ' '\", 'caused_by': {'type': 'number_format_exception', 'reason': 'empty String'}}}}, {'index': {'_index': 'whole_corp', '_id': '8CqiJ5kBifl7Wjgxa6J9', 'status': 400, 'error': {'type': 'document_parsing_exception', 'reason': \"[1:175] failed to parse field [資本額] of type [double] in document with id '8CqiJ5kBifl7Wjgxa6J9'. Preview of field's value: ' '\", 'caused_by': {'type': 'number_format_exception', 'reason': 'empty String'}}}}, {'index': {'_index': 'whole_corp', '_id': '9SqiJ5kBifl7Wjgxa6J9', 'status': 400, 'error': {'type': 'document_parsing_exception', 'reason': \"[1:161] failed to parse field [資本額] of type [double] in document with id '9SqiJ5kBifl7Wjgxa6J9'. Preview of field's value: ' '\", 'caused_by': {'type': 'number_format_exception', 'reason': 'empty String'}}}}, {'index': {'_index': 'whole_corp', '_id': 'HiqiJ5kBifl7Wjgxa6R9', 'status': 400, 'error': {'type': 'document_parsing_exception', 'reason': \"[1:179] failed to parse field [資本額] of type [double] in document with id 'HiqiJ5kBifl7Wjgxa6R9'. Preview of field's value: ' '\", 'caused_by': {'type': 'number_format_exception', 'reason': 'empty String'}}}}, {'index': {'_index': 'whole_corp', '_id': 'JSqiJ5kBifl7Wjgxa6R9', 'status': 400, 'error': {'type': 'document_parsing_exception', 'reason': \"[1:194] failed to parse field [資本額] of type [double] in document with id 'JSqiJ5kBifl7Wjgxa6R9'. Preview of field's value: ' '\", 'caused_by': {'type': 'number_format_exception', 'reason': 'empty String'}}}}, {'index': {'_index': 'whole_corp', '_id': 'hiqiJ5kBifl7Wjgxa6R9', 'status': 400, 'error': {'type': 'document_parsing_exception', 'reason': \"[1:173] failed to parse field [資本額] of type [double] in document with id 'hiqiJ5kBifl7Wjgxa6R9'. Preview of field's value: ' '\", 'caused_by': {'type': 'number_format_exception', 'reason': 'empty String'}}}}]\n",
      "==================================errors: ===============================\n",
      "[{'index': {'_index': 'whole_corp', '_id': 'CyqiJ5kBifl7WjgxbKWB', 'status': 400, 'error': {'type': 'document_parsing_exception', 'reason': \"[1:181] failed to parse field [資本額] of type [double] in document with id 'CyqiJ5kBifl7WjgxbKWB'. Preview of field's value: ' '\", 'caused_by': {'type': 'number_format_exception', 'reason': 'empty String'}}}}, {'index': {'_index': 'whole_corp', '_id': 'SCqiJ5kBifl7WjgxbKWB', 'status': 400, 'error': {'type': 'document_parsing_exception', 'reason': \"[1:171] failed to parse field [資本額] of type [double] in document with id 'SCqiJ5kBifl7WjgxbKWB'. Preview of field's value: ' '\", 'caused_by': {'type': 'number_format_exception', 'reason': 'empty String'}}}}, {'index': {'_index': 'whole_corp', '_id': '8iqiJ5kBifl7WjgxbKWB', 'status': 400, 'error': {'type': 'document_parsing_exception', 'reason': \"[1:177] failed to parse field [資本額] of type [double] in document with id '8iqiJ5kBifl7WjgxbKWB'. Preview of field's value: ' '\", 'caused_by': {'type': 'number_format_exception', 'reason': 'empty String'}}}}, {'index': {'_index': 'whole_corp', '_id': '6yqiJ5kBifl7WjgxbaYV', 'status': 400, 'error': {'type': 'document_parsing_exception', 'reason': \"[1:185] failed to parse field [資本額] of type [double] in document with id '6yqiJ5kBifl7WjgxbaYV'. Preview of field's value: ' '\", 'caused_by': {'type': 'number_format_exception', 'reason': 'empty String'}}}}]\n",
      "==================================errors: ===============================\n",
      "[{'index': {'_index': 'whole_corp', '_id': 'ECqiJ5kBifl7Wjgxc73I', 'status': 400, 'error': {'type': 'document_parsing_exception', 'reason': \"[1:180] failed to parse field [資本額] of type [double] in document with id 'ECqiJ5kBifl7Wjgxc73I'. Preview of field's value: ' '\", 'caused_by': {'type': 'number_format_exception', 'reason': 'empty String'}}}}, {'index': {'_index': 'whole_corp', '_id': '9SqiJ5kBifl7WjgxdL5x', 'status': 400, 'error': {'type': 'document_parsing_exception', 'reason': \"[1:191] failed to parse field [資本額] of type [double] in document with id '9SqiJ5kBifl7WjgxdL5x'. Preview of field's value: ' '\", 'caused_by': {'type': 'number_format_exception', 'reason': 'empty String'}}}}]\n",
      "==================================errors: ===============================\n",
      "[{'index': {'_index': 'whole_corp', '_id': '2iqiJ5kBifl7Wjgxd8l1', 'status': 400, 'error': {'type': 'document_parsing_exception', 'reason': \"[1:170] failed to parse field [資本額] of type [double] in document with id '2iqiJ5kBifl7Wjgxd8l1'. Preview of field's value: ' '\", 'caused_by': {'type': 'number_format_exception', 'reason': 'empty String'}}}}, {'index': {'_index': 'whole_corp', '_id': 'HCqiJ5kBifl7WjgxeMoQ', 'status': 400, 'error': {'type': 'document_parsing_exception', 'reason': \"[1:171] failed to parse field [資本額] of type [double] in document with id 'HCqiJ5kBifl7WjgxeMoQ'. Preview of field's value: ' '\", 'caused_by': {'type': 'number_format_exception', 'reason': 'empty String'}}}}, {'index': {'_index': 'whole_corp', '_id': 'mCqiJ5kBifl7WjgxeMoQ', 'status': 400, 'error': {'type': 'document_parsing_exception', 'reason': \"[1:166] failed to parse field [資本額] of type [double] in document with id 'mCqiJ5kBifl7WjgxeMoQ'. Preview of field's value: ' '\", 'caused_by': {'type': 'number_format_exception', 'reason': 'empty String'}}}}, {'index': {'_index': 'whole_corp', '_id': 'niqiJ5kBifl7WjgxeMoQ', 'status': 400, 'error': {'type': 'document_parsing_exception', 'reason': \"[1:178] failed to parse field [資本額] of type [double] in document with id 'niqiJ5kBifl7WjgxeMoQ'. Preview of field's value: ' '\", 'caused_by': {'type': 'number_format_exception', 'reason': 'empty String'}}}}]\n",
      "==================================errors: ===============================\n",
      "[{'index': {'_index': 'whole_corp', '_id': 'KyqiJ5kBifl7WjgxetQy', 'status': 400, 'error': {'type': 'document_parsing_exception', 'reason': \"[1:169] failed to parse field [資本額] of type [double] in document with id 'KyqiJ5kBifl7WjgxetQy'. Preview of field's value: ' '\", 'caused_by': {'type': 'number_format_exception', 'reason': 'empty String'}}}}, {'index': {'_index': 'whole_corp', '_id': 'PiqiJ5kBifl7WjgxetQy', 'status': 400, 'error': {'type': 'document_parsing_exception', 'reason': \"[1:155] failed to parse field [資本額] of type [double] in document with id 'PiqiJ5kBifl7WjgxetQy'. Preview of field's value: 'None'\", 'caused_by': {'type': 'number_format_exception', 'reason': 'For input string: \"None\"'}}}}, {'index': {'_index': 'whole_corp', '_id': 'SCqiJ5kBifl7WjgxetQy', 'status': 400, 'error': {'type': 'document_parsing_exception', 'reason': \"[1:174] failed to parse field [資本額] of type [double] in document with id 'SCqiJ5kBifl7WjgxetQy'. Preview of field's value: ' '\", 'caused_by': {'type': 'number_format_exception', 'reason': 'empty String'}}}}]\n",
      "==================================errors: ===============================\n",
      "[{'index': {'_index': 'whole_corp', '_id': 'xiqiJ5kBifl7Wjgxe9dg', 'status': 400, 'error': {'type': 'document_parsing_exception', 'reason': \"[1:174] failed to parse field [資本額] of type [double] in document with id 'xiqiJ5kBifl7Wjgxe9dg'. Preview of field's value: ' '\", 'caused_by': {'type': 'number_format_exception', 'reason': 'empty String'}}}}, {'index': {'_index': 'whole_corp', '_id': '1yqiJ5kBifl7WjgxfNpw', 'status': 400, 'error': {'type': 'document_parsing_exception', 'reason': \"[1:170] failed to parse field [資本額] of type [double] in document with id '1yqiJ5kBifl7WjgxfNpw'. Preview of field's value: ' '\", 'caused_by': {'type': 'number_format_exception', 'reason': 'empty String'}}}}, {'index': {'_index': 'whole_corp', '_id': '3CqiJ5kBifl7WjgxfNpw', 'status': 400, 'error': {'type': 'document_parsing_exception', 'reason': \"[1:176] failed to parse field [資本額] of type [double] in document with id '3CqiJ5kBifl7WjgxfNpw'. Preview of field's value: ' '\", 'caused_by': {'type': 'number_format_exception', 'reason': 'empty String'}}}}]\n",
      "==================================errors: ===============================\n",
      "[{'index': {'_index': 'whole_corp', '_id': 'JSqiJ5kBifl7Wjgxf-i0', 'status': 400, 'error': {'type': 'document_parsing_exception', 'reason': \"[1:166] failed to parse field [資本額] of type [double] in document with id 'JSqiJ5kBifl7Wjgxf-i0'. Preview of field's value: ' '\", 'caused_by': {'type': 'number_format_exception', 'reason': 'empty String'}}}}]\n"
     ]
    },
    {
     "ename": "KeyboardInterrupt",
     "evalue": "",
     "output_type": "error",
     "traceback": [
      "\u001b[1;31m---------------------------------------------------------------------------\u001b[0m",
      "\u001b[1;31mKeyboardInterrupt\u001b[0m                         Traceback (most recent call last)",
      "Cell \u001b[1;32mIn[21], line 90\u001b[0m\n\u001b[0;32m     88\u001b[0m database \u001b[38;5;241m=\u001b[39m \u001b[38;5;124m'\u001b[39m\u001b[38;5;124mwhole_corp\u001b[39m\u001b[38;5;124m'\u001b[39m\n\u001b[0;32m     89\u001b[0m table_name \u001b[38;5;241m=\u001b[39m \u001b[38;5;124m'\u001b[39m\u001b[38;5;124mwhole_corp\u001b[39m\u001b[38;5;124m'\u001b[39m\n\u001b[1;32m---> 90\u001b[0m es_data \u001b[38;5;241m=\u001b[39m \u001b[43mmain\u001b[49m\u001b[43m(\u001b[49m\u001b[43mtable_name\u001b[49m\u001b[43m,\u001b[49m\u001b[43mdatabase\u001b[49m\u001b[43m)\u001b[49m\n",
      "Cell \u001b[1;32mIn[21], line 76\u001b[0m, in \u001b[0;36mmain\u001b[1;34m(table_name, database)\u001b[0m\n\u001b[0;32m     73\u001b[0m             actions[i][\u001b[38;5;124m'\u001b[39m\u001b[38;5;124m_source\u001b[39m\u001b[38;5;124m'\u001b[39m][\u001b[38;5;124m'\u001b[39m\u001b[38;5;124mintroduction\u001b[39m\u001b[38;5;124m'\u001b[39m] \u001b[38;5;241m=\u001b[39m re\u001b[38;5;241m.\u001b[39msub(\u001b[38;5;124mr\u001b[39m\u001b[38;5;124m'\u001b[39m\u001b[38;5;124m<[^>]*>|&nbsp\u001b[39m\u001b[38;5;124m'\u001b[39m,\u001b[38;5;124m'\u001b[39m\u001b[38;5;124m'\u001b[39m,actions[i][\u001b[38;5;124m'\u001b[39m\u001b[38;5;124m_source\u001b[39m\u001b[38;5;124m'\u001b[39m][\u001b[38;5;124m'\u001b[39m\u001b[38;5;124mintroduction\u001b[39m\u001b[38;5;124m'\u001b[39m])\n\u001b[0;32m     75\u001b[0m     \u001b[38;5;66;03m# Bulk index the data in Elasticsearch\u001b[39;00m\n\u001b[1;32m---> 76\u001b[0m     \u001b[43melastic_import\u001b[49m\u001b[43m(\u001b[49m\u001b[43mes\u001b[49m\u001b[43m,\u001b[49m\u001b[43m \u001b[49m\u001b[43mactions\u001b[49m\u001b[43m)\u001b[49m\n\u001b[0;32m     78\u001b[0m \u001b[38;5;66;03m# Cleanup\u001b[39;00m\n\u001b[0;32m     79\u001b[0m cursor\u001b[38;5;241m.\u001b[39mclose()\n",
      "Cell \u001b[1;32mIn[21], line 35\u001b[0m, in \u001b[0;36melastic_import\u001b[1;34m(es, actions)\u001b[0m\n\u001b[0;32m     34\u001b[0m \u001b[38;5;28;01mdef\u001b[39;00m\u001b[38;5;250m \u001b[39m\u001b[38;5;21melastic_import\u001b[39m(es, actions):\n\u001b[1;32m---> 35\u001b[0m     response, errors  \u001b[38;5;241m=\u001b[39m \u001b[43mhelpers\u001b[49m\u001b[38;5;241;43m.\u001b[39;49m\u001b[43mbulk\u001b[49m\u001b[43m(\u001b[49m\u001b[43mes\u001b[49m\u001b[43m,\u001b[49m\u001b[43m \u001b[49m\u001b[43mactions\u001b[49m\u001b[43m,\u001b[49m\u001b[43mraise_on_error\u001b[49m\u001b[38;5;241;43m=\u001b[39;49m\u001b[38;5;28;43;01mFalse\u001b[39;49;00m\u001b[43m)\u001b[49m\n\u001b[0;32m     36\u001b[0m     \u001b[38;5;28;01mif\u001b[39;00m errors:\n\u001b[0;32m     37\u001b[0m         \u001b[38;5;28mprint\u001b[39m(\u001b[38;5;124mf\u001b[39m\u001b[38;5;124m'\u001b[39m\u001b[38;5;124m==================================errors: ===============================\u001b[39m\u001b[38;5;130;01m\\n\u001b[39;00m\u001b[38;5;132;01m{\u001b[39;00merrors\u001b[38;5;132;01m}\u001b[39;00m\u001b[38;5;124m'\u001b[39m)\n",
      "File \u001b[1;32md:\\miniconda3\\envs\\nexva_penta_integration_env\\lib\\site-packages\\elasticsearch\\helpers\\actions.py:540\u001b[0m, in \u001b[0;36mbulk\u001b[1;34m(client, actions, stats_only, ignore_status, *args, **kwargs)\u001b[0m\n\u001b[0;32m    538\u001b[0m \u001b[38;5;66;03m# make streaming_bulk yield successful results so we can count them\u001b[39;00m\n\u001b[0;32m    539\u001b[0m kwargs[\u001b[38;5;124m\"\u001b[39m\u001b[38;5;124myield_ok\u001b[39m\u001b[38;5;124m\"\u001b[39m] \u001b[38;5;241m=\u001b[39m \u001b[38;5;28;01mTrue\u001b[39;00m\n\u001b[1;32m--> 540\u001b[0m \u001b[38;5;28;01mfor\u001b[39;00m ok, item \u001b[38;5;129;01min\u001b[39;00m streaming_bulk(\n\u001b[0;32m    541\u001b[0m     client, actions, ignore_status\u001b[38;5;241m=\u001b[39mignore_status, span_name\u001b[38;5;241m=\u001b[39m\u001b[38;5;124m\"\u001b[39m\u001b[38;5;124mhelpers.bulk\u001b[39m\u001b[38;5;124m\"\u001b[39m, \u001b[38;5;241m*\u001b[39margs, \u001b[38;5;241m*\u001b[39m\u001b[38;5;241m*\u001b[39mkwargs  \u001b[38;5;66;03m# type: ignore[misc]\u001b[39;00m\n\u001b[0;32m    542\u001b[0m ):\n\u001b[0;32m    543\u001b[0m     \u001b[38;5;66;03m# go through request-response pairs and detect failures\u001b[39;00m\n\u001b[0;32m    544\u001b[0m     \u001b[38;5;28;01mif\u001b[39;00m \u001b[38;5;129;01mnot\u001b[39;00m ok:\n\u001b[0;32m    545\u001b[0m         \u001b[38;5;28;01mif\u001b[39;00m \u001b[38;5;129;01mnot\u001b[39;00m stats_only:\n",
      "File \u001b[1;32md:\\miniconda3\\envs\\nexva_penta_integration_env\\lib\\site-packages\\elasticsearch\\helpers\\actions.py:453\u001b[0m, in \u001b[0;36mstreaming_bulk\u001b[1;34m(client, actions, chunk_size, max_chunk_bytes, raise_on_error, expand_action_callback, raise_on_exception, max_retries, initial_backoff, max_backoff, yield_ok, ignore_status, retry_on_status, span_name, *args, **kwargs)\u001b[0m\n\u001b[0;32m    450\u001b[0m     time\u001b[38;5;241m.\u001b[39msleep(\u001b[38;5;28mmin\u001b[39m(max_backoff, initial_backoff \u001b[38;5;241m*\u001b[39m \u001b[38;5;241m2\u001b[39m \u001b[38;5;241m*\u001b[39m\u001b[38;5;241m*\u001b[39m (attempt \u001b[38;5;241m-\u001b[39m \u001b[38;5;241m1\u001b[39m)))\n\u001b[0;32m    452\u001b[0m \u001b[38;5;28;01mtry\u001b[39;00m:\n\u001b[1;32m--> 453\u001b[0m     \u001b[38;5;28;01mfor\u001b[39;00m data, (ok, info) \u001b[38;5;129;01min\u001b[39;00m \u001b[38;5;28mzip\u001b[39m(\n\u001b[0;32m    454\u001b[0m         bulk_data,\n\u001b[0;32m    455\u001b[0m         _process_bulk_chunk(\n\u001b[0;32m    456\u001b[0m             client,\n\u001b[0;32m    457\u001b[0m             bulk_actions,\n\u001b[0;32m    458\u001b[0m             bulk_data,\n\u001b[0;32m    459\u001b[0m             otel_span,\n\u001b[0;32m    460\u001b[0m             raise_on_exception,\n\u001b[0;32m    461\u001b[0m             raise_on_error,\n\u001b[0;32m    462\u001b[0m             ignore_status,\n\u001b[0;32m    463\u001b[0m             \u001b[38;5;241m*\u001b[39margs,\n\u001b[0;32m    464\u001b[0m             \u001b[38;5;241m*\u001b[39m\u001b[38;5;241m*\u001b[39mkwargs,\n\u001b[0;32m    465\u001b[0m         ),\n\u001b[0;32m    466\u001b[0m     ):\n\u001b[0;32m    467\u001b[0m         \u001b[38;5;28;01mif\u001b[39;00m \u001b[38;5;129;01mnot\u001b[39;00m ok:\n\u001b[0;32m    468\u001b[0m             action, info \u001b[38;5;241m=\u001b[39m info\u001b[38;5;241m.\u001b[39mpopitem()\n",
      "File \u001b[1;32md:\\miniconda3\\envs\\nexva_penta_integration_env\\lib\\site-packages\\elasticsearch\\helpers\\actions.py:343\u001b[0m, in \u001b[0;36m_process_bulk_chunk\u001b[1;34m(client, bulk_actions, bulk_data, otel_span, raise_on_exception, raise_on_error, ignore_status, *args, **kwargs)\u001b[0m\n\u001b[0;32m    339\u001b[0m     ignore_status \u001b[38;5;241m=\u001b[39m (ignore_status,)\n\u001b[0;32m    341\u001b[0m \u001b[38;5;28;01mtry\u001b[39;00m:\n\u001b[0;32m    342\u001b[0m     \u001b[38;5;66;03m# send the actual request\u001b[39;00m\n\u001b[1;32m--> 343\u001b[0m     resp \u001b[38;5;241m=\u001b[39m client\u001b[38;5;241m.\u001b[39mbulk(\u001b[38;5;241m*\u001b[39margs, operations\u001b[38;5;241m=\u001b[39mbulk_actions, \u001b[38;5;241m*\u001b[39m\u001b[38;5;241m*\u001b[39mkwargs)  \u001b[38;5;66;03m# type: ignore[arg-type]\u001b[39;00m\n\u001b[0;32m    344\u001b[0m \u001b[38;5;28;01mexcept\u001b[39;00m ApiError \u001b[38;5;28;01mas\u001b[39;00m e:\n\u001b[0;32m    345\u001b[0m     gen \u001b[38;5;241m=\u001b[39m _process_bulk_chunk_error(\n\u001b[0;32m    346\u001b[0m         error\u001b[38;5;241m=\u001b[39me,\n\u001b[0;32m    347\u001b[0m         bulk_data\u001b[38;5;241m=\u001b[39mbulk_data,\n\u001b[1;32m   (...)\u001b[0m\n\u001b[0;32m    350\u001b[0m         raise_on_error\u001b[38;5;241m=\u001b[39mraise_on_error,\n\u001b[0;32m    351\u001b[0m     )\n",
      "File \u001b[1;32md:\\miniconda3\\envs\\nexva_penta_integration_env\\lib\\site-packages\\elasticsearch\\_sync\\client\\utils.py:452\u001b[0m, in \u001b[0;36m_rewrite_parameters.<locals>.wrapper.<locals>.wrapped\u001b[1;34m(*args, **kwargs)\u001b[0m\n\u001b[0;32m    449\u001b[0m         \u001b[38;5;28;01mexcept\u001b[39;00m \u001b[38;5;167;01mKeyError\u001b[39;00m:\n\u001b[0;32m    450\u001b[0m             \u001b[38;5;28;01mpass\u001b[39;00m\n\u001b[1;32m--> 452\u001b[0m \u001b[38;5;28;01mreturn\u001b[39;00m api(\u001b[38;5;241m*\u001b[39margs, \u001b[38;5;241m*\u001b[39m\u001b[38;5;241m*\u001b[39mkwargs)\n",
      "File \u001b[1;32md:\\miniconda3\\envs\\nexva_penta_integration_env\\lib\\site-packages\\elasticsearch\\_sync\\client\\__init__.py:827\u001b[0m, in \u001b[0;36mElasticsearch.bulk\u001b[1;34m(self, operations, body, index, error_trace, filter_path, human, include_source_on_error, list_executed_pipelines, pipeline, pretty, refresh, require_alias, require_data_stream, routing, source, source_excludes, source_includes, timeout, wait_for_active_shards)\u001b[0m\n\u001b[0;32m    822\u001b[0m __body \u001b[38;5;241m=\u001b[39m operations \u001b[38;5;28;01mif\u001b[39;00m operations \u001b[38;5;129;01mis\u001b[39;00m \u001b[38;5;129;01mnot\u001b[39;00m \u001b[38;5;28;01mNone\u001b[39;00m \u001b[38;5;28;01melse\u001b[39;00m body\n\u001b[0;32m    823\u001b[0m __headers \u001b[38;5;241m=\u001b[39m {\n\u001b[0;32m    824\u001b[0m     \u001b[38;5;124m\"\u001b[39m\u001b[38;5;124maccept\u001b[39m\u001b[38;5;124m\"\u001b[39m: \u001b[38;5;124m\"\u001b[39m\u001b[38;5;124mapplication/json\u001b[39m\u001b[38;5;124m\"\u001b[39m,\n\u001b[0;32m    825\u001b[0m     \u001b[38;5;124m\"\u001b[39m\u001b[38;5;124mcontent-type\u001b[39m\u001b[38;5;124m\"\u001b[39m: \u001b[38;5;124m\"\u001b[39m\u001b[38;5;124mapplication/x-ndjson\u001b[39m\u001b[38;5;124m\"\u001b[39m,\n\u001b[0;32m    826\u001b[0m }\n\u001b[1;32m--> 827\u001b[0m \u001b[38;5;28;01mreturn\u001b[39;00m \u001b[38;5;28;43mself\u001b[39;49m\u001b[38;5;241;43m.\u001b[39;49m\u001b[43mperform_request\u001b[49m\u001b[43m(\u001b[49m\u001b[43m  \u001b[49m\u001b[38;5;66;43;03m# type: ignore[return-value]\u001b[39;49;00m\n\u001b[0;32m    828\u001b[0m \u001b[43m    \u001b[49m\u001b[38;5;124;43m\"\u001b[39;49m\u001b[38;5;124;43mPUT\u001b[39;49m\u001b[38;5;124;43m\"\u001b[39;49m\u001b[43m,\u001b[49m\n\u001b[0;32m    829\u001b[0m \u001b[43m    \u001b[49m\u001b[43m__path\u001b[49m\u001b[43m,\u001b[49m\n\u001b[0;32m    830\u001b[0m \u001b[43m    \u001b[49m\u001b[43mparams\u001b[49m\u001b[38;5;241;43m=\u001b[39;49m\u001b[43m__query\u001b[49m\u001b[43m,\u001b[49m\n\u001b[0;32m    831\u001b[0m \u001b[43m    \u001b[49m\u001b[43mheaders\u001b[49m\u001b[38;5;241;43m=\u001b[39;49m\u001b[43m__headers\u001b[49m\u001b[43m,\u001b[49m\n\u001b[0;32m    832\u001b[0m \u001b[43m    \u001b[49m\u001b[43mbody\u001b[49m\u001b[38;5;241;43m=\u001b[39;49m\u001b[43m__body\u001b[49m\u001b[43m,\u001b[49m\n\u001b[0;32m    833\u001b[0m \u001b[43m    \u001b[49m\u001b[43mendpoint_id\u001b[49m\u001b[38;5;241;43m=\u001b[39;49m\u001b[38;5;124;43m\"\u001b[39;49m\u001b[38;5;124;43mbulk\u001b[39;49m\u001b[38;5;124;43m\"\u001b[39;49m\u001b[43m,\u001b[49m\n\u001b[0;32m    834\u001b[0m \u001b[43m    \u001b[49m\u001b[43mpath_parts\u001b[49m\u001b[38;5;241;43m=\u001b[39;49m\u001b[43m__path_parts\u001b[49m\u001b[43m,\u001b[49m\n\u001b[0;32m    835\u001b[0m \u001b[43m\u001b[49m\u001b[43m)\u001b[49m\n",
      "File \u001b[1;32md:\\miniconda3\\envs\\nexva_penta_integration_env\\lib\\site-packages\\elasticsearch\\_sync\\client\\_base.py:271\u001b[0m, in \u001b[0;36mBaseClient.perform_request\u001b[1;34m(self, method, path, params, headers, body, endpoint_id, path_parts)\u001b[0m\n\u001b[0;32m    255\u001b[0m \u001b[38;5;28;01mdef\u001b[39;00m\u001b[38;5;250m \u001b[39m\u001b[38;5;21mperform_request\u001b[39m(\n\u001b[0;32m    256\u001b[0m     \u001b[38;5;28mself\u001b[39m,\n\u001b[0;32m    257\u001b[0m     method: \u001b[38;5;28mstr\u001b[39m,\n\u001b[1;32m   (...)\u001b[0m\n\u001b[0;32m    264\u001b[0m     path_parts: Optional[Mapping[\u001b[38;5;28mstr\u001b[39m, Any]] \u001b[38;5;241m=\u001b[39m \u001b[38;5;28;01mNone\u001b[39;00m,\n\u001b[0;32m    265\u001b[0m ) \u001b[38;5;241m-\u001b[39m\u001b[38;5;241m>\u001b[39m ApiResponse[Any]:\n\u001b[0;32m    266\u001b[0m     \u001b[38;5;28;01mwith\u001b[39;00m \u001b[38;5;28mself\u001b[39m\u001b[38;5;241m.\u001b[39m_otel\u001b[38;5;241m.\u001b[39mspan(\n\u001b[0;32m    267\u001b[0m         method,\n\u001b[0;32m    268\u001b[0m         endpoint_id\u001b[38;5;241m=\u001b[39mendpoint_id,\n\u001b[0;32m    269\u001b[0m         path_parts\u001b[38;5;241m=\u001b[39mpath_parts \u001b[38;5;129;01mor\u001b[39;00m {},\n\u001b[0;32m    270\u001b[0m     ) \u001b[38;5;28;01mas\u001b[39;00m otel_span:\n\u001b[1;32m--> 271\u001b[0m         response \u001b[38;5;241m=\u001b[39m \u001b[38;5;28;43mself\u001b[39;49m\u001b[38;5;241;43m.\u001b[39;49m\u001b[43m_perform_request\u001b[49m\u001b[43m(\u001b[49m\n\u001b[0;32m    272\u001b[0m \u001b[43m            \u001b[49m\u001b[43mmethod\u001b[49m\u001b[43m,\u001b[49m\n\u001b[0;32m    273\u001b[0m \u001b[43m            \u001b[49m\u001b[43mpath\u001b[49m\u001b[43m,\u001b[49m\n\u001b[0;32m    274\u001b[0m \u001b[43m            \u001b[49m\u001b[43mparams\u001b[49m\u001b[38;5;241;43m=\u001b[39;49m\u001b[43mparams\u001b[49m\u001b[43m,\u001b[49m\n\u001b[0;32m    275\u001b[0m \u001b[43m            \u001b[49m\u001b[43mheaders\u001b[49m\u001b[38;5;241;43m=\u001b[39;49m\u001b[43mheaders\u001b[49m\u001b[43m,\u001b[49m\n\u001b[0;32m    276\u001b[0m \u001b[43m            \u001b[49m\u001b[43mbody\u001b[49m\u001b[38;5;241;43m=\u001b[39;49m\u001b[43mbody\u001b[49m\u001b[43m,\u001b[49m\n\u001b[0;32m    277\u001b[0m \u001b[43m            \u001b[49m\u001b[43motel_span\u001b[49m\u001b[38;5;241;43m=\u001b[39;49m\u001b[43motel_span\u001b[49m\u001b[43m,\u001b[49m\n\u001b[0;32m    278\u001b[0m \u001b[43m        \u001b[49m\u001b[43m)\u001b[49m\n\u001b[0;32m    279\u001b[0m         otel_span\u001b[38;5;241m.\u001b[39mset_elastic_cloud_metadata(response\u001b[38;5;241m.\u001b[39mmeta\u001b[38;5;241m.\u001b[39mheaders)\n\u001b[0;32m    280\u001b[0m         \u001b[38;5;28;01mreturn\u001b[39;00m response\n",
      "File \u001b[1;32md:\\miniconda3\\envs\\nexva_penta_integration_env\\lib\\site-packages\\elasticsearch\\_sync\\client\\_base.py:315\u001b[0m, in \u001b[0;36mBaseClient._perform_request\u001b[1;34m(self, method, path, params, headers, body, otel_span)\u001b[0m\n\u001b[0;32m    312\u001b[0m \u001b[38;5;28;01melse\u001b[39;00m:\n\u001b[0;32m    313\u001b[0m     target \u001b[38;5;241m=\u001b[39m path\n\u001b[1;32m--> 315\u001b[0m meta, resp_body \u001b[38;5;241m=\u001b[39m \u001b[38;5;28;43mself\u001b[39;49m\u001b[38;5;241;43m.\u001b[39;49m\u001b[43mtransport\u001b[49m\u001b[38;5;241;43m.\u001b[39;49m\u001b[43mperform_request\u001b[49m\u001b[43m(\u001b[49m\n\u001b[0;32m    316\u001b[0m \u001b[43m    \u001b[49m\u001b[43mmethod\u001b[49m\u001b[43m,\u001b[49m\n\u001b[0;32m    317\u001b[0m \u001b[43m    \u001b[49m\u001b[43mtarget\u001b[49m\u001b[43m,\u001b[49m\n\u001b[0;32m    318\u001b[0m \u001b[43m    \u001b[49m\u001b[43mheaders\u001b[49m\u001b[38;5;241;43m=\u001b[39;49m\u001b[43mrequest_headers\u001b[49m\u001b[43m,\u001b[49m\n\u001b[0;32m    319\u001b[0m \u001b[43m    \u001b[49m\u001b[43mbody\u001b[49m\u001b[38;5;241;43m=\u001b[39;49m\u001b[43mbody\u001b[49m\u001b[43m,\u001b[49m\n\u001b[0;32m    320\u001b[0m \u001b[43m    \u001b[49m\u001b[43mrequest_timeout\u001b[49m\u001b[38;5;241;43m=\u001b[39;49m\u001b[38;5;28;43mself\u001b[39;49m\u001b[38;5;241;43m.\u001b[39;49m\u001b[43m_request_timeout\u001b[49m\u001b[43m,\u001b[49m\n\u001b[0;32m    321\u001b[0m \u001b[43m    \u001b[49m\u001b[43mmax_retries\u001b[49m\u001b[38;5;241;43m=\u001b[39;49m\u001b[38;5;28;43mself\u001b[39;49m\u001b[38;5;241;43m.\u001b[39;49m\u001b[43m_max_retries\u001b[49m\u001b[43m,\u001b[49m\n\u001b[0;32m    322\u001b[0m \u001b[43m    \u001b[49m\u001b[43mretry_on_status\u001b[49m\u001b[38;5;241;43m=\u001b[39;49m\u001b[38;5;28;43mself\u001b[39;49m\u001b[38;5;241;43m.\u001b[39;49m\u001b[43m_retry_on_status\u001b[49m\u001b[43m,\u001b[49m\n\u001b[0;32m    323\u001b[0m \u001b[43m    \u001b[49m\u001b[43mretry_on_timeout\u001b[49m\u001b[38;5;241;43m=\u001b[39;49m\u001b[38;5;28;43mself\u001b[39;49m\u001b[38;5;241;43m.\u001b[39;49m\u001b[43m_retry_on_timeout\u001b[49m\u001b[43m,\u001b[49m\n\u001b[0;32m    324\u001b[0m \u001b[43m    \u001b[49m\u001b[43mclient_meta\u001b[49m\u001b[38;5;241;43m=\u001b[39;49m\u001b[38;5;28;43mself\u001b[39;49m\u001b[38;5;241;43m.\u001b[39;49m\u001b[43m_client_meta\u001b[49m\u001b[43m,\u001b[49m\n\u001b[0;32m    325\u001b[0m \u001b[43m    \u001b[49m\u001b[43motel_span\u001b[49m\u001b[38;5;241;43m=\u001b[39;49m\u001b[43motel_span\u001b[49m\u001b[43m,\u001b[49m\n\u001b[0;32m    326\u001b[0m \u001b[43m\u001b[49m\u001b[43m)\u001b[49m\n\u001b[0;32m    328\u001b[0m \u001b[38;5;66;03m# HEAD with a 404 is returned as a normal response\u001b[39;00m\n\u001b[0;32m    329\u001b[0m \u001b[38;5;66;03m# since this is used as an 'exists' functionality.\u001b[39;00m\n\u001b[0;32m    330\u001b[0m \u001b[38;5;28;01mif\u001b[39;00m \u001b[38;5;129;01mnot\u001b[39;00m (method \u001b[38;5;241m==\u001b[39m \u001b[38;5;124m\"\u001b[39m\u001b[38;5;124mHEAD\u001b[39m\u001b[38;5;124m\"\u001b[39m \u001b[38;5;129;01mand\u001b[39;00m meta\u001b[38;5;241m.\u001b[39mstatus \u001b[38;5;241m==\u001b[39m \u001b[38;5;241m404\u001b[39m) \u001b[38;5;129;01mand\u001b[39;00m (\n\u001b[0;32m    331\u001b[0m     \u001b[38;5;129;01mnot\u001b[39;00m \u001b[38;5;241m200\u001b[39m \u001b[38;5;241m<\u001b[39m\u001b[38;5;241m=\u001b[39m meta\u001b[38;5;241m.\u001b[39mstatus \u001b[38;5;241m<\u001b[39m \u001b[38;5;241m299\u001b[39m\n\u001b[0;32m    332\u001b[0m     \u001b[38;5;129;01mand\u001b[39;00m (\n\u001b[1;32m   (...)\u001b[0m\n\u001b[0;32m    336\u001b[0m     )\n\u001b[0;32m    337\u001b[0m ):\n",
      "File \u001b[1;32md:\\miniconda3\\envs\\nexva_penta_integration_env\\lib\\site-packages\\elastic_transport\\_transport.py:342\u001b[0m, in \u001b[0;36mTransport.perform_request\u001b[1;34m(self, method, target, body, headers, max_retries, retry_on_status, retry_on_timeout, request_timeout, client_meta, otel_span)\u001b[0m\n\u001b[0;32m    340\u001b[0m \u001b[38;5;28;01mtry\u001b[39;00m:\n\u001b[0;32m    341\u001b[0m     otel_span\u001b[38;5;241m.\u001b[39mset_node_metadata(node\u001b[38;5;241m.\u001b[39mhost, node\u001b[38;5;241m.\u001b[39mport, node\u001b[38;5;241m.\u001b[39mbase_url, target)\n\u001b[1;32m--> 342\u001b[0m     resp \u001b[38;5;241m=\u001b[39m \u001b[43mnode\u001b[49m\u001b[38;5;241;43m.\u001b[39;49m\u001b[43mperform_request\u001b[49m\u001b[43m(\u001b[49m\n\u001b[0;32m    343\u001b[0m \u001b[43m        \u001b[49m\u001b[43mmethod\u001b[49m\u001b[43m,\u001b[49m\n\u001b[0;32m    344\u001b[0m \u001b[43m        \u001b[49m\u001b[43mtarget\u001b[49m\u001b[43m,\u001b[49m\n\u001b[0;32m    345\u001b[0m \u001b[43m        \u001b[49m\u001b[43mbody\u001b[49m\u001b[38;5;241;43m=\u001b[39;49m\u001b[43mrequest_body\u001b[49m\u001b[43m,\u001b[49m\n\u001b[0;32m    346\u001b[0m \u001b[43m        \u001b[49m\u001b[43mheaders\u001b[49m\u001b[38;5;241;43m=\u001b[39;49m\u001b[43mrequest_headers\u001b[49m\u001b[43m,\u001b[49m\n\u001b[0;32m    347\u001b[0m \u001b[43m        \u001b[49m\u001b[43mrequest_timeout\u001b[49m\u001b[38;5;241;43m=\u001b[39;49m\u001b[43mrequest_timeout\u001b[49m\u001b[43m,\u001b[49m\n\u001b[0;32m    348\u001b[0m \u001b[43m    \u001b[49m\u001b[43m)\u001b[49m\n\u001b[0;32m    349\u001b[0m     _logger\u001b[38;5;241m.\u001b[39minfo(\n\u001b[0;32m    350\u001b[0m         \u001b[38;5;124m\"\u001b[39m\u001b[38;5;132;01m%s\u001b[39;00m\u001b[38;5;124m \u001b[39m\u001b[38;5;132;01m%s\u001b[39;00m\u001b[38;5;132;01m%s\u001b[39;00m\u001b[38;5;124m [status:\u001b[39m\u001b[38;5;132;01m%s\u001b[39;00m\u001b[38;5;124m duration:\u001b[39m\u001b[38;5;132;01m%.3f\u001b[39;00m\u001b[38;5;124ms]\u001b[39m\u001b[38;5;124m\"\u001b[39m\n\u001b[0;32m    351\u001b[0m         \u001b[38;5;241m%\u001b[39m (\n\u001b[1;32m   (...)\u001b[0m\n\u001b[0;32m    357\u001b[0m         )\n\u001b[0;32m    358\u001b[0m     )\n\u001b[0;32m    360\u001b[0m     \u001b[38;5;28;01mif\u001b[39;00m method \u001b[38;5;241m!=\u001b[39m \u001b[38;5;124m\"\u001b[39m\u001b[38;5;124mHEAD\u001b[39m\u001b[38;5;124m\"\u001b[39m:\n",
      "File \u001b[1;32md:\\miniconda3\\envs\\nexva_penta_integration_env\\lib\\site-packages\\elastic_transport\\_node\\_http_urllib3.py:167\u001b[0m, in \u001b[0;36mUrllib3HttpNode.perform_request\u001b[1;34m(self, method, target, body, headers, request_timeout)\u001b[0m\n\u001b[0;32m    164\u001b[0m \u001b[38;5;28;01melse\u001b[39;00m:\n\u001b[0;32m    165\u001b[0m     body_to_send \u001b[38;5;241m=\u001b[39m \u001b[38;5;28;01mNone\u001b[39;00m\n\u001b[1;32m--> 167\u001b[0m response \u001b[38;5;241m=\u001b[39m \u001b[38;5;28mself\u001b[39m\u001b[38;5;241m.\u001b[39mpool\u001b[38;5;241m.\u001b[39murlopen(\n\u001b[0;32m    168\u001b[0m     method,\n\u001b[0;32m    169\u001b[0m     target,\n\u001b[0;32m    170\u001b[0m     body\u001b[38;5;241m=\u001b[39mbody_to_send,\n\u001b[0;32m    171\u001b[0m     retries\u001b[38;5;241m=\u001b[39mRetry(\u001b[38;5;28;01mFalse\u001b[39;00m),\n\u001b[0;32m    172\u001b[0m     headers\u001b[38;5;241m=\u001b[39mrequest_headers,\n\u001b[0;32m    173\u001b[0m     \u001b[38;5;241m*\u001b[39m\u001b[38;5;241m*\u001b[39mkw,  \u001b[38;5;66;03m# type: ignore[arg-type]\u001b[39;00m\n\u001b[0;32m    174\u001b[0m )\n\u001b[0;32m    175\u001b[0m response_headers \u001b[38;5;241m=\u001b[39m HttpHeaders(response\u001b[38;5;241m.\u001b[39mheaders)\n\u001b[0;32m    176\u001b[0m data \u001b[38;5;241m=\u001b[39m response\u001b[38;5;241m.\u001b[39mdata\n",
      "File \u001b[1;32md:\\miniconda3\\envs\\nexva_penta_integration_env\\lib\\site-packages\\urllib3\\connectionpool.py:787\u001b[0m, in \u001b[0;36mHTTPConnectionPool.urlopen\u001b[1;34m(self, method, url, body, headers, retries, redirect, assert_same_host, timeout, pool_timeout, release_conn, chunked, body_pos, preload_content, decode_content, **response_kw)\u001b[0m\n\u001b[0;32m    784\u001b[0m response_conn \u001b[38;5;241m=\u001b[39m conn \u001b[38;5;28;01mif\u001b[39;00m \u001b[38;5;129;01mnot\u001b[39;00m release_conn \u001b[38;5;28;01melse\u001b[39;00m \u001b[38;5;28;01mNone\u001b[39;00m\n\u001b[0;32m    786\u001b[0m \u001b[38;5;66;03m# Make the request on the HTTPConnection object\u001b[39;00m\n\u001b[1;32m--> 787\u001b[0m response \u001b[38;5;241m=\u001b[39m \u001b[38;5;28mself\u001b[39m\u001b[38;5;241m.\u001b[39m_make_request(\n\u001b[0;32m    788\u001b[0m     conn,\n\u001b[0;32m    789\u001b[0m     method,\n\u001b[0;32m    790\u001b[0m     url,\n\u001b[0;32m    791\u001b[0m     timeout\u001b[38;5;241m=\u001b[39mtimeout_obj,\n\u001b[0;32m    792\u001b[0m     body\u001b[38;5;241m=\u001b[39mbody,\n\u001b[0;32m    793\u001b[0m     headers\u001b[38;5;241m=\u001b[39mheaders,\n\u001b[0;32m    794\u001b[0m     chunked\u001b[38;5;241m=\u001b[39mchunked,\n\u001b[0;32m    795\u001b[0m     retries\u001b[38;5;241m=\u001b[39mretries,\n\u001b[0;32m    796\u001b[0m     response_conn\u001b[38;5;241m=\u001b[39mresponse_conn,\n\u001b[0;32m    797\u001b[0m     preload_content\u001b[38;5;241m=\u001b[39mpreload_content,\n\u001b[0;32m    798\u001b[0m     decode_content\u001b[38;5;241m=\u001b[39mdecode_content,\n\u001b[0;32m    799\u001b[0m     \u001b[38;5;241m*\u001b[39m\u001b[38;5;241m*\u001b[39mresponse_kw,\n\u001b[0;32m    800\u001b[0m )\n\u001b[0;32m    802\u001b[0m \u001b[38;5;66;03m# Everything went great!\u001b[39;00m\n\u001b[0;32m    803\u001b[0m clean_exit \u001b[38;5;241m=\u001b[39m \u001b[38;5;28;01mTrue\u001b[39;00m\n",
      "File \u001b[1;32md:\\miniconda3\\envs\\nexva_penta_integration_env\\lib\\site-packages\\urllib3\\connectionpool.py:534\u001b[0m, in \u001b[0;36mHTTPConnectionPool._make_request\u001b[1;34m(self, conn, method, url, body, headers, retries, timeout, chunked, response_conn, preload_content, decode_content, enforce_content_length)\u001b[0m\n\u001b[0;32m    532\u001b[0m \u001b[38;5;66;03m# Receive the response from the server\u001b[39;00m\n\u001b[0;32m    533\u001b[0m \u001b[38;5;28;01mtry\u001b[39;00m:\n\u001b[1;32m--> 534\u001b[0m     response \u001b[38;5;241m=\u001b[39m \u001b[43mconn\u001b[49m\u001b[38;5;241;43m.\u001b[39;49m\u001b[43mgetresponse\u001b[49m\u001b[43m(\u001b[49m\u001b[43m)\u001b[49m\n\u001b[0;32m    535\u001b[0m \u001b[38;5;28;01mexcept\u001b[39;00m (BaseSSLError, \u001b[38;5;167;01mOSError\u001b[39;00m) \u001b[38;5;28;01mas\u001b[39;00m e:\n\u001b[0;32m    536\u001b[0m     \u001b[38;5;28mself\u001b[39m\u001b[38;5;241m.\u001b[39m_raise_timeout(err\u001b[38;5;241m=\u001b[39me, url\u001b[38;5;241m=\u001b[39murl, timeout_value\u001b[38;5;241m=\u001b[39mread_timeout)\n",
      "File \u001b[1;32md:\\miniconda3\\envs\\nexva_penta_integration_env\\lib\\site-packages\\urllib3\\connection.py:565\u001b[0m, in \u001b[0;36mHTTPConnection.getresponse\u001b[1;34m(self)\u001b[0m\n\u001b[0;32m    562\u001b[0m _shutdown \u001b[38;5;241m=\u001b[39m \u001b[38;5;28mgetattr\u001b[39m(\u001b[38;5;28mself\u001b[39m\u001b[38;5;241m.\u001b[39msock, \u001b[38;5;124m\"\u001b[39m\u001b[38;5;124mshutdown\u001b[39m\u001b[38;5;124m\"\u001b[39m, \u001b[38;5;28;01mNone\u001b[39;00m)\n\u001b[0;32m    564\u001b[0m \u001b[38;5;66;03m# Get the response from http.client.HTTPConnection\u001b[39;00m\n\u001b[1;32m--> 565\u001b[0m httplib_response \u001b[38;5;241m=\u001b[39m \u001b[38;5;28;43msuper\u001b[39;49m\u001b[43m(\u001b[49m\u001b[43m)\u001b[49m\u001b[38;5;241;43m.\u001b[39;49m\u001b[43mgetresponse\u001b[49m\u001b[43m(\u001b[49m\u001b[43m)\u001b[49m\n\u001b[0;32m    567\u001b[0m \u001b[38;5;28;01mtry\u001b[39;00m:\n\u001b[0;32m    568\u001b[0m     assert_header_parsing(httplib_response\u001b[38;5;241m.\u001b[39mmsg)\n",
      "File \u001b[1;32md:\\miniconda3\\envs\\nexva_penta_integration_env\\lib\\http\\client.py:1375\u001b[0m, in \u001b[0;36mHTTPConnection.getresponse\u001b[1;34m(self)\u001b[0m\n\u001b[0;32m   1373\u001b[0m \u001b[38;5;28;01mtry\u001b[39;00m:\n\u001b[0;32m   1374\u001b[0m     \u001b[38;5;28;01mtry\u001b[39;00m:\n\u001b[1;32m-> 1375\u001b[0m         \u001b[43mresponse\u001b[49m\u001b[38;5;241;43m.\u001b[39;49m\u001b[43mbegin\u001b[49m\u001b[43m(\u001b[49m\u001b[43m)\u001b[49m\n\u001b[0;32m   1376\u001b[0m     \u001b[38;5;28;01mexcept\u001b[39;00m \u001b[38;5;167;01mConnectionError\u001b[39;00m:\n\u001b[0;32m   1377\u001b[0m         \u001b[38;5;28mself\u001b[39m\u001b[38;5;241m.\u001b[39mclose()\n",
      "File \u001b[1;32md:\\miniconda3\\envs\\nexva_penta_integration_env\\lib\\http\\client.py:318\u001b[0m, in \u001b[0;36mHTTPResponse.begin\u001b[1;34m(self)\u001b[0m\n\u001b[0;32m    316\u001b[0m \u001b[38;5;66;03m# read until we get a non-100 response\u001b[39;00m\n\u001b[0;32m    317\u001b[0m \u001b[38;5;28;01mwhile\u001b[39;00m \u001b[38;5;28;01mTrue\u001b[39;00m:\n\u001b[1;32m--> 318\u001b[0m     version, status, reason \u001b[38;5;241m=\u001b[39m \u001b[38;5;28;43mself\u001b[39;49m\u001b[38;5;241;43m.\u001b[39;49m\u001b[43m_read_status\u001b[49m\u001b[43m(\u001b[49m\u001b[43m)\u001b[49m\n\u001b[0;32m    319\u001b[0m     \u001b[38;5;28;01mif\u001b[39;00m status \u001b[38;5;241m!=\u001b[39m CONTINUE:\n\u001b[0;32m    320\u001b[0m         \u001b[38;5;28;01mbreak\u001b[39;00m\n",
      "File \u001b[1;32md:\\miniconda3\\envs\\nexva_penta_integration_env\\lib\\http\\client.py:279\u001b[0m, in \u001b[0;36mHTTPResponse._read_status\u001b[1;34m(self)\u001b[0m\n\u001b[0;32m    278\u001b[0m \u001b[38;5;28;01mdef\u001b[39;00m\u001b[38;5;250m \u001b[39m\u001b[38;5;21m_read_status\u001b[39m(\u001b[38;5;28mself\u001b[39m):\n\u001b[1;32m--> 279\u001b[0m     line \u001b[38;5;241m=\u001b[39m \u001b[38;5;28mstr\u001b[39m(\u001b[38;5;28;43mself\u001b[39;49m\u001b[38;5;241;43m.\u001b[39;49m\u001b[43mfp\u001b[49m\u001b[38;5;241;43m.\u001b[39;49m\u001b[43mreadline\u001b[49m\u001b[43m(\u001b[49m\u001b[43m_MAXLINE\u001b[49m\u001b[43m \u001b[49m\u001b[38;5;241;43m+\u001b[39;49m\u001b[43m \u001b[49m\u001b[38;5;241;43m1\u001b[39;49m\u001b[43m)\u001b[49m, \u001b[38;5;124m\"\u001b[39m\u001b[38;5;124miso-8859-1\u001b[39m\u001b[38;5;124m\"\u001b[39m)\n\u001b[0;32m    280\u001b[0m     \u001b[38;5;28;01mif\u001b[39;00m \u001b[38;5;28mlen\u001b[39m(line) \u001b[38;5;241m>\u001b[39m _MAXLINE:\n\u001b[0;32m    281\u001b[0m         \u001b[38;5;28;01mraise\u001b[39;00m LineTooLong(\u001b[38;5;124m\"\u001b[39m\u001b[38;5;124mstatus line\u001b[39m\u001b[38;5;124m\"\u001b[39m)\n",
      "File \u001b[1;32md:\\miniconda3\\envs\\nexva_penta_integration_env\\lib\\socket.py:717\u001b[0m, in \u001b[0;36mSocketIO.readinto\u001b[1;34m(self, b)\u001b[0m\n\u001b[0;32m    715\u001b[0m \u001b[38;5;28;01mwhile\u001b[39;00m \u001b[38;5;28;01mTrue\u001b[39;00m:\n\u001b[0;32m    716\u001b[0m     \u001b[38;5;28;01mtry\u001b[39;00m:\n\u001b[1;32m--> 717\u001b[0m         \u001b[38;5;28;01mreturn\u001b[39;00m \u001b[38;5;28;43mself\u001b[39;49m\u001b[38;5;241;43m.\u001b[39;49m\u001b[43m_sock\u001b[49m\u001b[38;5;241;43m.\u001b[39;49m\u001b[43mrecv_into\u001b[49m\u001b[43m(\u001b[49m\u001b[43mb\u001b[49m\u001b[43m)\u001b[49m\n\u001b[0;32m    718\u001b[0m     \u001b[38;5;28;01mexcept\u001b[39;00m timeout:\n\u001b[0;32m    719\u001b[0m         \u001b[38;5;28mself\u001b[39m\u001b[38;5;241m.\u001b[39m_timeout_occurred \u001b[38;5;241m=\u001b[39m \u001b[38;5;28;01mTrue\u001b[39;00m\n",
      "\u001b[1;31mKeyboardInterrupt\u001b[0m: "
     ]
    }
   ],
   "source": [
    "'''=============================================['userESG', 'lifeCircleESG', 'courseESG']==============================================='''\n",
    "# Function to create a MySQL connection\n",
    "def mysql_connection_whole_corp():\n",
    "    return connect(host='localhost',\n",
    "                   port=3307,\n",
    "                   user='root',\n",
    "                   password='!QAZ2wsx',\n",
    "                   database='whole_corp')\n",
    "\n",
    "\n",
    "def json_serial(obj):\n",
    "    \"\"\"JSON serializer for objects not serializable by default json code\"\"\"\n",
    "    if isinstance(obj, datetime.datetime):\n",
    "        return obj.isoformat()\n",
    "    if isinstance(obj, bytearray):\n",
    "        return obj.decode('utf-8')\n",
    "    raise TypeError (\"Type %s not serializable\" % type(obj))\n",
    "    \n",
    "\n",
    "# Generator function to fetch data in batches from MySQL\n",
    "def fetch_data(cursor, batch_size=1000):\n",
    "    while True:\n",
    "        rows = cursor.fetchmany(batch_size)\n",
    "        if not rows:\n",
    "            break\n",
    "        # Convert each row to JSON serializable format\n",
    "        cleaned_rows = []\n",
    "        for row in rows:\n",
    "            cleaned_row = {k: json_serial(v) if isinstance(v, (datetime.datetime, bytearray)) else 0.0 if (k == '資本額') and (v == '\\\\N') else v for k, v in row.items()}\n",
    "            cleaned_rows.append(cleaned_row)\n",
    "        yield cleaned_rows\n",
    "    \n",
    "\n",
    "def elastic_import(es, actions):\n",
    "    response, errors  = helpers.bulk(es, actions, raise_on_error=False)\n",
    "    if errors:\n",
    "        print(f'==================================errors: ===============================\\n{errors}')\n",
    "        \n",
    "    \n",
    "# Main function to control the flow of the script\n",
    "def main(table_name, database = None):\n",
    "    # Connect to MySQL\n",
    "    \n",
    "    mysql_conn = mysql_connection_whole_corp() \n",
    "        \n",
    "    cursor = mysql_conn.cursor(dictionary=True)\n",
    "    \n",
    "    # Define the SQL query and execute it\n",
    "    sql_query = f\"SELECT * FROM {table_name}\"\n",
    "    cursor.execute(sql_query)\n",
    "    \n",
    "    # Connect to Elasticsearch\n",
    "    es = create_es_connection()\n",
    "\n",
    "    # Define the Elasticsearch index where the data will be stored\n",
    "    es_index = table_name.lower()\n",
    "    \n",
    "    # Fetch data from MySQL and prepare it for Elasticsearch\n",
    "#     if es.indices.exists(index = table_name):\n",
    "#         return 'the index already exists'\n",
    "    \n",
    "    for batch in fetch_data(cursor):\n",
    "        actions = [\n",
    "            {\n",
    "                \"_index\": es_index,\n",
    "                \"_source\": row,\n",
    "            } for row in batch\n",
    "        ]\n",
    "        \n",
    "        # Bulk index the data in Elasticsearch\n",
    "        elastic_import(es, actions)\n",
    "\n",
    "    # Cleanup\n",
    "    cursor.close()\n",
    "    mysql_conn.close()\n",
    "    return actions\n",
    "    \n",
    "    \n",
    "if __name__ == \"__main__\":\n",
    "    \n",
    "    #Define paramenter\n",
    "    database = 'whole_corp'\n",
    "    table_name = 'whole_corp'\n",
    "    es_data = main(table_name,database)\n"
   ]
  },
  {
   "cell_type": "markdown",
   "id": "89195940",
   "metadata": {},
   "source": [
    "# Update index with specific field"
   ]
  },
  {
   "cell_type": "markdown",
   "id": "960827a5",
   "metadata": {},
   "source": []
  }
 ],
 "metadata": {
  "kernelspec": {
   "display_name": "nexva_penta_integration_env",
   "language": "python",
   "name": "python3"
  },
  "language_info": {
   "codemirror_mode": {
    "name": "ipython",
    "version": 3
   },
   "file_extension": ".py",
   "mimetype": "text/x-python",
   "name": "python",
   "nbconvert_exporter": "python",
   "pygments_lexer": "ipython3",
   "version": "3.10.18"
  },
  "widgets": {
   "application/vnd.jupyter.widget-state+json": {
    "state": {},
    "version_major": 2,
    "version_minor": 0
   }
  }
 },
 "nbformat": 4,
 "nbformat_minor": 5
}
