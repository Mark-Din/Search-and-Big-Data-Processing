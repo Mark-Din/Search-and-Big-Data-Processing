{
 "cells": [
  {
   "cell_type": "code",
   "execution_count": null,
   "id": "94f50e51",
   "metadata": {},
   "outputs": [],
   "source": [
    "import s3fs, pyarrow.parquet as pq, pandas as pd\n",
    "import json"
   ]
  },
  {
   "cell_type": "code",
   "execution_count": null,
   "id": "e92cd36b",
   "metadata": {},
   "outputs": [],
   "source": [
    "import os\n",
    "\n",
    "os.environ[\"AWS_ACCESS_KEY_ID\"] = \"minioadmin\"\n",
    "os.environ[\"AWS_SECRET_ACCESS_KEY\"] = \"minioadmin\"\n",
    "os.environ[\"AWS_ENDPOINT_URL\"] = \"http://localhost:9000\"\n",
    "os.environ[\"AWS_REGION\"] = \"us-east-1\"\n",
    "os.environ[\"AWS_ALLOW_HTTP\"] = \"true\"\n",
    "os.environ[\"AWS_S3_ALLOW_UNSAFE_RENAME\"] = \"true\"\n",
    "\n",
    "from deltalake import DeltaTable\n",
    "\n",
    "dt = DeltaTable(\"s3://deltabucket/bronze/wholeCorp_delta_raw\")\n",
    "df = dt.to_pandas()\n"
   ]
  },
  {
   "cell_type": "code",
   "execution_count": null,
   "id": "6c46471c",
   "metadata": {},
   "outputs": [],
   "source": [
    "prefix = \"deltabucket/gold/wholeCorp_delta\"\n",
    "files = fs.glob(f\"{prefix}/*.parquet\")\n",
    "\n",
    "dfs = []\n",
    "for f in files:\n",
    "    table = pq.ParquetDataset(f\"s3://{f}\", filesystem=fs).read()\n",
    "    df = table.to_pandas()\n",
    "    dfs.append(df)\n",
    "\n",
    "df_whole_gold = pd.concat(dfs)\n",
    "\n",
    "df_merged = df_whole_silver.merge(df_whole_gold[['統一編號','features']], on= \"統一編號\", how='left')\n",
    "df_merged = df_merged[['統一編號', '公司名稱', '負責人', '登記地址', '資本額', '營業項目及代碼表', '縣市名稱', '區域名稱',\n",
    "        '類別_全', '官網', '電話', 'features']]\n",
    "df_merged.rename(columns={'features':'features_vector'}, inplace=True)\n",
    "df_merged"
   ]
  },
  {
   "cell_type": "code",
   "execution_count": null,
   "id": "1d9dc442",
   "metadata": {},
   "outputs": [],
   "source": [
    "# --- Read Delta from MinIO ---\n",
    "storage_options = {\n",
    "    \"AWS_ACCESS_KEY_ID\": \"minioadmin\",\n",
    "    \"AWS_SECRET_ACCESS_KEY\": \"minioadmin\",\n",
    "    \"AWS_ENDPOINT_URL\": MINIO_ENDPOINT,\n",
    "}\n",
    "\n",
    "dt = DeltaTable(DELTA_PATH, storage_options=storage_options)\n",
    "\n",
    "# Convert to Pandas (you can chunk if too big)\n",
    "df = dt.to_pandas()\n",
    "\n",
    "# --- Send to Elasticsearch ---\n",
    "es = Elasticsearch(ES_URL)\n",
    "\n",
    "def docs():\n",
    "    for rec in df.to_dict(orient=\"records\"):\n",
    "        yield {\"_index\": ES_INDEX, \"_source\": rec}\n",
    "\n",
    "helpers.bulk(es, docs())\n",
    "print(f\"Inserted {len(df)} records into {ES_INDEX}\")\n"
   ]
  },
  {
   "cell_type": "markdown",
   "id": "fe805713",
   "metadata": {},
   "source": [
    "# Check log"
   ]
  },
  {
   "cell_type": "code",
   "execution_count": null,
   "id": "e197f727",
   "metadata": {},
   "outputs": [],
   "source": [
    "import s3fs, json\n",
    "\n",
    "fs = s3fs.S3FileSystem(\n",
    "    key=\"minioadmin\",\n",
    "    secret=\"minioadmin\",\n",
    "    client_kwargs={\"endpoint_url\": \"http://localhost:9000\"},\n",
    ")\n",
    "\n",
    "log_path = \"deltabucket/gold/wholeCorp_clusters/_delta_log/00000000000000000000.json\""
   ]
  },
  {
   "cell_type": "code",
   "execution_count": null,
   "id": "46612953",
   "metadata": {},
   "outputs": [],
   "source": [
    "with fs.open(log_path) as f:\n",
    "    for line in f:\n",
    "        print(line)\n",
    "        obj = json.loads(line)"
   ]
  },
  {
   "cell_type": "code",
   "execution_count": null,
   "id": "bfbf4554",
   "metadata": {},
   "outputs": [],
   "source": [
    "with fs.open(log_path) as f:\n",
    "    for line in f:\n",
    "        if not line.strip():\n",
    "            continue\n",
    "        obj = json.loads(line)\n",
    "        if \"metaData\" in obj:\n",
    "            print(\"Schema string:\")\n",
    "            print(obj[\"metaData\"][\"schemaString\"])"
   ]
  },
  {
   "cell_type": "markdown",
   "id": "dd499641",
   "metadata": {},
   "source": [
    "# Read parquet cluster gold"
   ]
  },
  {
   "cell_type": "code",
   "execution_count": null,
   "id": "7ee0589a",
   "metadata": {},
   "outputs": [],
   "source": [
    "prefix = \"deltabucket/gold/wholeCorp_clusters\"\n",
    "files = fs.glob(f\"{prefix}/*.parquet\")\n",
    "\n",
    "dfs = []\n",
    "for f in files:\n",
    "    table = pq.ParquetDataset(f\"s3://{f}\", filesystem=fs).read()\n",
    "    df = table.to_pandas()\n",
    "    dfs.append(df)\n",
    "\n",
    "df_whole_gold_cluster = pd.concat(dfs)\n",
    "\n",
    "# df_merged = df_whole_silver.merge(df_whole_gold[['統一編號','features']], on= \"統一編號\", how='left')\n",
    "# df_merged = df_merged[['統一編號', '公司名稱', '負責人', '登記地址', '資本額', '營業項目及代碼表', '縣市名稱', '區域名稱',\n",
    "#         '類別_全', '官網', '電話', 'features']]\n",
    "# df_merged.rename(columns={'features':'features_vector'}, inplace=True)"
   ]
  },
  {
   "cell_type": "code",
   "execution_count": null,
   "id": "9440e16e",
   "metadata": {},
   "outputs": [],
   "source": [
    "df_whole_gold_cluster"
   ]
  }
 ],
 "metadata": {
  "kernelspec": {
   "display_name": "nexva_penta_integration_env",
   "language": "python",
   "name": "python3"
  },
  "language_info": {
   "codemirror_mode": {
    "name": "ipython",
    "version": 3
   },
   "file_extension": ".py",
   "mimetype": "text/x-python",
   "name": "python",
   "nbconvert_exporter": "python",
   "pygments_lexer": "ipython3",
   "version": "3.10.18"
  }
 },
 "nbformat": 4,
 "nbformat_minor": 5
}
