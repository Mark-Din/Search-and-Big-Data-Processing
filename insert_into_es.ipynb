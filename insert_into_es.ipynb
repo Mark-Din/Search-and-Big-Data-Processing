{
 "cells": [
  {
   "cell_type": "code",
   "execution_count": null,
   "id": "44cfefad",
   "metadata": {},
   "outputs": [],
   "source": [
    "from sqlalchemy import create_engine, text\n",
    "import pandas as pd\n",
    "import urllib\n"
   ]
  },
  {
   "cell_type": "code",
   "execution_count": 5,
   "id": "3dab62c8",
   "metadata": {},
   "outputs": [],
   "source": [
    "user = \"root\"\n",
    "password = \"!QAZ2wsx\"\n",
    "host = \"localhost\"\n",
    "port = 3306\n",
    "db   = \"whole_corp\"\n",
    "tbl  = \"whole_corp\"\n",
    "\n",
    "encoded_pw = urllib.parse.quote_plus(password)\n",
    "# IMPORTANT: allow_local_infile=1 for mysqlconnector (or local_infile=1 for PyMySQL)\n",
    "db_url = f\"mysql+mysqlconnector://{user}:{encoded_pw}@{host}:{port}/{db}?allow_local_infile=1\"\n"
   ]
  },
  {
   "cell_type": "code",
   "execution_count": null,
   "id": "ff724793",
   "metadata": {},
   "outputs": [
    {
     "name": "stdout",
     "output_type": "stream",
     "text": [
      "[[1 2 5 6]\n",
      " [3 4 7 8]]\n"
     ]
    }
   ],
   "source": [
    "import numpy as np\n",
    "\n",
    "arr1 = np.array([[1, 2], [3, 4]])\n",
    "arr2 = np.array([[5, 6], [7, 8]])\n",
    "\n",
    "stacked_array = np.hstack((arr1, arr2))\n",
    "print(stacked_array)"
   ]
  }
 ],
 "metadata": {
  "kernelspec": {
   "display_name": "nexva_penta_integration_env",
   "language": "python",
   "name": "python3"
  },
  "language_info": {
   "codemirror_mode": {
    "name": "ipython",
    "version": 3
   },
   "file_extension": ".py",
   "mimetype": "text/x-python",
   "name": "python",
   "nbconvert_exporter": "python",
   "pygments_lexer": "ipython3",
   "version": "3.10.18"
  }
 },
 "nbformat": 4,
 "nbformat_minor": 5
}
