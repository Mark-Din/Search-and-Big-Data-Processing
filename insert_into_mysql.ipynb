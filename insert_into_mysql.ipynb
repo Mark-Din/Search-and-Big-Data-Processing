{
 "cells": [
  {
   "cell_type": "code",
   "execution_count": 2,
   "id": "75c9536e",
   "metadata": {},
   "outputs": [],
   "source": [
    "from sqlalchemy import create_engine, text\n",
    "import pandas as pd\n",
    "from urllib.parse import quote\n",
    "\n",
    "\n",
    "# df = pd.read_json(r\"C:\\Users\\mark.ding\\big-data-ai-integration-platform\\sparkVolumnTest\\企業資訊_全_2024_10_24.json\")\n",
    "df = pd.read_json(r\"D:\\markding_git\\big-data-ai-integration-platform\\spark_volume\\jupyterlab\\json_data\\企業資訊_for_ml_2025_08.json\")\n",
    "\n",
    "for column in df.columns:\n",
    "    df[column] = df[column].apply(lambda x : ','.join(map(str,x)) if isinstance(x, list) else x)\n",
    "for i in df.columns:\n",
    "    df[i] = df[i].apply(lambda x: ','.join(map(str, x)) if isinstance(x, list) else x)\n"
   ]
  },
  {
   "cell_type": "code",
   "execution_count": null,
   "id": "eff236ae",
   "metadata": {},
   "outputs": [],
   "source": []
  },
  {
   "cell_type": "code",
   "execution_count": null,
   "id": "88d615d4",
   "metadata": {},
   "outputs": [],
   "source": []
  },
  {
   "cell_type": "code",
   "execution_count": null,
   "id": "6ac870e0",
   "metadata": {},
   "outputs": [
    {
     "ename": "",
     "evalue": "",
     "output_type": "error",
     "traceback": [
      "\u001b[1;31mThe Kernel crashed while executing code in the current cell or a previous cell. \n",
      "\u001b[1;31mPlease review the code in the cell(s) to identify a possible cause of the failure. \n",
      "\u001b[1;31mClick <a href='https://aka.ms/vscodeJupyterKernelCrash'>here</a> for more info. \n",
      "\u001b[1;31mView Jupyter <a href='command:jupyter.viewOutput'>log</a> for further details."
     ]
    }
   ],
   "source": [
    "import pandas as pd\n",
    "from sqlalchemy import create_engine, text\n",
    "import urllib.parse, os, csv\n",
    "\n",
    "user = \"root\"\n",
    "password = \"!QAZ2wsx\"\n",
    "host = \"localhost\"\n",
    "port = 3307\n",
    "db   = \"whole_corp\"\n",
    "tbl  = \"whole_corp\"\n",
    "\n",
    "encoded_pw = urllib.parse.quote_plus(password)\n",
    "# IMPORTANT: allow_local_infile=1 for mysqlconnector (or local_infile=1 for PyMySQL)\n",
    "db_url = f\"mysql+mysqlconnector://{user}:{encoded_pw}@{host}:{port}/{db}?allow_local_infile=1\"\n",
    "\n",
    "engine = create_engine(db_url, pool_pre_ping=True)\n",
    "\n",
    "# 1) Ensure table exists with the right schema.\n",
    "#    If you don't have it yet, create it once with to_sql but with zero rows\n",
    "#    (or write a CREATE TABLE manually for precise types).\n",
    "#    Example (create empty table once):\n",
    "df.head(0).to_sql(tbl, engine, if_exists=\"replace\", index=False)\n",
    "\n",
    "# 2) Write a clean TSV to disk (much safer than CSV for commas/quotes)\n",
    "tmp_path = \"/tmp/whole_corp_load.tsv\"  # on Windows: r\"C:\\temp\\whole_corp_load.tsv\"\n",
    "os.makedirs(os.path.dirname(tmp_path), exist_ok=True)\n",
    "\n",
    "# Write TSV: represent NULLs as \\N (MySQL understands \\N as NULL if not quoted)\n",
    "df.to_csv(\n",
    "    tmp_path,\n",
    "    sep=\"\\t\",\n",
    "    index=False,\n",
    "    na_rep=\"\\\\N\",\n",
    "    quoting=csv.QUOTE_NONE,\n",
    "    escapechar=\"\\\\\",\n",
    ")\n",
    "\n",
    "# 3) Bulk load\n",
    "with engine.begin() as conn:\n",
    "\n",
    "    # optional but helps: disable checks while loading\n",
    "    conn.execute(text(\"SET FOREIGN_KEY_CHECKS=0\"))\n",
    "    conn.execute(text(\"SET UNIQUE_CHECKS=0\"))\n",
    "    # If you have heavy indexes on the table, consider dropping them before and recreating after.\n",
    "\n",
    "    # LOAD DATA (LOCAL needs allow_local_infile=1)\n",
    "    conn.execute(text(f\"\"\"\n",
    "        LOAD DATA LOCAL INFILE :path\n",
    "        INTO TABLE {tbl}\n",
    "        FIELDS TERMINATED BY '\\t'\n",
    "        ESCAPED BY '\\\\\\\\'\n",
    "        LINES TERMINATED BY '\\n'\n",
    "        IGNORE 1 LINES\n",
    "    \"\"\"), {\"path\": tmp_path})\n",
    "\n",
    "    conn.execute(text(\"SET UNIQUE_CHECKS=1\"))\n",
    "    conn.execute(text(\"SET FOREIGN_KEY_CHECKS=1\"))"
   ]
  }
 ],
 "metadata": {
  "kernelspec": {
   "display_name": "nexva_penta_integration_env",
   "language": "python",
   "name": "python3"
  },
  "language_info": {
   "codemirror_mode": {
    "name": "ipython",
    "version": 3
   },
   "file_extension": ".py",
   "mimetype": "text/x-python",
   "name": "python",
   "nbconvert_exporter": "python",
   "pygments_lexer": "ipython3",
   "version": "3.10.18"
  }
 },
 "nbformat": 4,
 "nbformat_minor": 5
}
