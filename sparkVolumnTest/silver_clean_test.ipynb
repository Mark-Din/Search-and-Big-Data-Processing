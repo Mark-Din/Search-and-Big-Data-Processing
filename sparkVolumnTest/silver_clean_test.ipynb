{
 "cells": [
  {
   "cell_type": "code",
   "execution_count": 1,
   "id": "92260340-8b12-4c9b-bcbe-e803bd6f331a",
   "metadata": {},
   "outputs": [],
   "source": [
    "import os, sys\n",
    "from pyspark.sql import SparkSession, functions as F, types as T"
   ]
  },
  {
   "cell_type": "code",
   "execution_count": 7,
   "id": "940fc0c1-fee0-4fe7-9973-8d297b2085e7",
   "metadata": {},
   "outputs": [],
   "source": [
    "def spark():\n",
    "    return (SparkSession.builder\n",
    "            .appName(\"silver_clean\")\n",
    "            .config(\"spark.sql.execution.arrow.pyspark.enabled\",\"true\")\n",
    "            .master(\"spark://spark-master:7077\")\n",
    "            .config(\"spark.jars.packages\", \"mysql:mysql-connector-java:8.0.33\")\n",
    "            .config(\"spark.executor.memory\", \"2g\")\n",
    "            .config(\"spark.executor.memoryOverhead\", \"512m\")\n",
    "            .getOrCreate()\n",
    "           )"
   ]
  },
  {
   "cell_type": "code",
   "execution_count": 8,
   "id": "cf2757c1-d32d-4989-91a7-9287b6dd29ff",
   "metadata": {},
   "outputs": [],
   "source": [
    "s = spark()\n"
   ]
  },
  {
   "cell_type": "markdown",
   "id": "6dcb902c-df61-4e46-b753-56ab93461d6c",
   "metadata": {},
   "source": [
    "# Extract from mysql"
   ]
  },
  {
   "cell_type": "code",
   "execution_count": null,
   "id": "4a7e5012-73ce-49c1-8d41-42ed37fdc5e3",
   "metadata": {},
   "outputs": [],
   "source": [
    "df = (\n",
    "    spark.read.format(\"jdbc\")\n",
    "    .option(\"url\",\"jdbc:mysql://mysql-container:3307/whole_corp\")\n",
    "    .option(\"dbtable\",\"whole_corp\")\n",
    "    .option(\"user\", \"user\").option(\"password\", \"pass\")\n",
    "    .load()\n",
    ")"
   ]
  }
 ],
 "metadata": {
  "kernelspec": {
   "display_name": "Python 3 (ipykernel)",
   "language": "python",
   "name": "python3"
  },
  "language_info": {
   "codemirror_mode": {
    "name": "ipython",
    "version": 3
   },
   "file_extension": ".py",
   "mimetype": "text/x-python",
   "name": "python",
   "nbconvert_exporter": "python",
   "pygments_lexer": "ipython3",
   "version": "3.11.6"
  }
 },
 "nbformat": 4,
 "nbformat_minor": 5
}
