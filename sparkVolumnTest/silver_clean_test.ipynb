{
 "cells": [
  {
   "cell_type": "code",
   "execution_count": 1,
   "id": "92260340-8b12-4c9b-bcbe-e803bd6f331a",
   "metadata": {},
   "outputs": [],
   "source": [
    "import os, sys\n",
    "from pyspark.sql import SparkSession, functions as F, types as T"
   ]
  },
  {
   "cell_type": "code",
   "execution_count": 22,
   "id": "940fc0c1-fee0-4fe7-9973-8d297b2085e7",
   "metadata": {},
   "outputs": [],
   "source": [
    "def spark():\n",
    "    return (SparkSession.builder\n",
    "            .appName(\"silver_clean\")\n",
    "            .config(\"spark.sql.execution.arrow.pyspark.enabled\",\"true\")\n",
    "            .master(\"spark://spark-master:7077\")\n",
    "            .config(\"spark.jars.packages\", \"mysql:mysql-connector-java:8.0.33\")\n",
    "            .config(\"spark.executor.cores\", \"2\") \n",
    "            .config(\"spark.executor.memory\", \"2g\")\n",
    "            .config(\"spark.executor.memoryOverhead\", \"512m\")\n",
    "            .getOrCreate()\n",
    "           )"
   ]
  },
  {
   "cell_type": "code",
   "execution_count": 23,
   "id": "cf2757c1-d32d-4989-91a7-9287b6dd29ff",
   "metadata": {},
   "outputs": [],
   "source": [
    "s = spark()"
   ]
  },
  {
   "cell_type": "code",
   "execution_count": 21,
   "id": "449842d1-427a-4f15-9f7b-a248fbdfe9e4",
   "metadata": {},
   "outputs": [],
   "source": [
    "s.stop()"
   ]
  },
  {
   "cell_type": "markdown",
   "id": "6dcb902c-df61-4e46-b753-56ab93461d6c",
   "metadata": {},
   "source": [
    "# Extract from mysql"
   ]
  },
  {
   "cell_type": "code",
   "execution_count": 24,
   "id": "4a7e5012-73ce-49c1-8d41-42ed37fdc5e3",
   "metadata": {},
   "outputs": [
    {
     "ename": "AttributeError",
     "evalue": "'function' object has no attribute 'read'",
     "output_type": "error",
     "traceback": [
      "\u001b[0;31m---------------------------------------------------------------------------\u001b[0m",
      "\u001b[0;31mAttributeError\u001b[0m                            Traceback (most recent call last)",
      "Cell \u001b[0;32mIn[24], line 2\u001b[0m\n\u001b[1;32m      1\u001b[0m df \u001b[38;5;241m=\u001b[39m (\n\u001b[0;32m----> 2\u001b[0m     \u001b[43mspark\u001b[49m\u001b[38;5;241;43m.\u001b[39;49m\u001b[43mread\u001b[49m\u001b[38;5;241m.\u001b[39mformat(\u001b[38;5;124m\"\u001b[39m\u001b[38;5;124mjdbc\u001b[39m\u001b[38;5;124m\"\u001b[39m)\n\u001b[1;32m      3\u001b[0m     \u001b[38;5;241m.\u001b[39moption(\u001b[38;5;124m\"\u001b[39m\u001b[38;5;124murl\u001b[39m\u001b[38;5;124m\"\u001b[39m,\u001b[38;5;124m\"\u001b[39m\u001b[38;5;124mjdbc:mysql://mysql-container:3307/whole_corp\u001b[39m\u001b[38;5;124m\"\u001b[39m)\n\u001b[1;32m      4\u001b[0m     \u001b[38;5;241m.\u001b[39moption(\u001b[38;5;124m\"\u001b[39m\u001b[38;5;124mdbtable\u001b[39m\u001b[38;5;124m\"\u001b[39m,\u001b[38;5;124m\"\u001b[39m\u001b[38;5;124mwhole_corp\u001b[39m\u001b[38;5;124m\"\u001b[39m)\n\u001b[1;32m      5\u001b[0m     \u001b[38;5;241m.\u001b[39moption(\u001b[38;5;124m\"\u001b[39m\u001b[38;5;124muser\u001b[39m\u001b[38;5;124m\"\u001b[39m, \u001b[38;5;124m\"\u001b[39m\u001b[38;5;124muser\u001b[39m\u001b[38;5;124m\"\u001b[39m)\u001b[38;5;241m.\u001b[39moption(\u001b[38;5;124m\"\u001b[39m\u001b[38;5;124mpassword\u001b[39m\u001b[38;5;124m\"\u001b[39m, \u001b[38;5;124m\"\u001b[39m\u001b[38;5;124mpass\u001b[39m\u001b[38;5;124m\"\u001b[39m)\n\u001b[1;32m      6\u001b[0m     \u001b[38;5;241m.\u001b[39mload()\n\u001b[1;32m      7\u001b[0m )\n",
      "\u001b[0;31mAttributeError\u001b[0m: 'function' object has no attribute 'read'"
     ]
    }
   ],
   "source": [
    "df = (\n",
    "    spark.read.format(\"jdbc\")\n",
    "    .option(\"url\",\"jdbc:mysql://mysql-container:3307/whole_corp\")\n",
    "    .option(\"dbtable\",\"whole_corp\")\n",
    "    .option(\"user\", \"user\").option(\"password\", \"pass\")\n",
    "    .load()\n",
    ")"
   ]
  }
 ],
 "metadata": {
  "kernelspec": {
   "display_name": "Python 3 (ipykernel)",
   "language": "python",
   "name": "python3"
  },
  "language_info": {
   "codemirror_mode": {
    "name": "ipython",
    "version": 3
   },
   "file_extension": ".py",
   "mimetype": "text/x-python",
   "name": "python",
   "nbconvert_exporter": "python",
   "pygments_lexer": "ipython3",
   "version": "3.11.6"
  }
 },
 "nbformat": 4,
 "nbformat_minor": 5
}
