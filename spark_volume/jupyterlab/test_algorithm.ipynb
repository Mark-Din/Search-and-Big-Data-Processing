{
 "cells": [
  {
   "cell_type": "code",
   "execution_count": null,
   "id": "a5085fb6-9672-4279-a9f1-d0865cc33b10",
   "metadata": {},
   "outputs": [],
   "source": [
    "from sklearn.neighbors import NearestNeighbors\n",
    "\n",
    "# Load previous SVD (dim=100)\n",
    "svd = joblib.load(\"svd_100.joblib\")\n",
    "\n",
    "# Build a NearestNeighbors index (on reduced space)\n",
    "nn = NearestNeighbors(n_neighbors=5, algorithm=\"auto\", metric=\"cosine\")\n",
    "\n",
    "# --- Fit index in streaming (collect reduced rows in one array)\n",
    "reduced_vectors = []\n",
    "batch = []\n",
    "for row in data.toLocalIterator():\n",
    "    batch.append(row)\n",
    "    if len(batch) >= BATCH:\n",
    "        Xb = to_csr(batch)\n",
    "        Xr = svd.transform(Xb)\n",
    "        reduced_vectors.append(Xr)\n",
    "        batch.clear()\n",
    "if batch:\n",
    "    Xb = to_csr(batch); Xr = svd.transform(Xb); reduced_vectors.append(Xr)\n",
    "\n",
    "X_all = np.vstack(reduced_vectors)\n",
    "nn.fit(X_all)\n",
    "\n",
    "# Save index\n",
    "joblib.dump({\"svd\": svd, \"nn\": nn, \"X_all\": X_all}, \"neighbors.joblib\")\n",
    "\n",
    "# --- Example: query nearest neighbors for company i=123\n",
    "distances, indices = nn.kneighbors(X_all[123].reshape(1,-1))\n",
    "print(\"Nearest neighbor indices:\", indices, \"distances:\", distances)"
   ]
  }
 ],
 "metadata": {
  "kernelspec": {
   "display_name": "Python 3 (ipykernel)",
   "language": "python",
   "name": "python3"
  },
  "language_info": {
   "codemirror_mode": {
    "name": "ipython",
    "version": 3
   },
   "file_extension": ".py",
   "mimetype": "text/x-python",
   "name": "python",
   "nbconvert_exporter": "python",
   "pygments_lexer": "ipython3",
   "version": "3.11.6"
  }
 },
 "nbformat": 4,
 "nbformat_minor": 5
}
